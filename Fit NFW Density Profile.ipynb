{
 "cells": [
  {
   "cell_type": "code",
   "execution_count": 1,
   "id": "adbd0626",
   "metadata": {},
   "outputs": [],
   "source": [
    "import numpy as np\n",
    "import pandas as pd\n",
    "from astropy.io import fits"
   ]
  },
  {
   "cell_type": "markdown",
   "id": "70287f9c",
   "metadata": {},
   "source": [
    "Inizializzo le variabili di interesse e definisco il parametro rho_m."
   ]
  },
  {
   "cell_type": "code",
   "execution_count": 2,
   "id": "a858d315",
   "metadata": {},
   "outputs": [
    {
     "data": {
      "text/plain": [
       "(1000,)"
      ]
     },
     "execution_count": 2,
     "metadata": {},
     "output_type": "execute_result"
    }
   ],
   "source": [
    "rho_m = 0.286 * 0.7**2 *2.7751428946e11\n",
    "M = np.array([10**13.5, 10**14.0, 10**15.0])\n",
    "c = np.array([2, 5, 10])\n",
    "z = 0.\n",
    "R = np.linspace(0.03,1.0,1000)\n",
    "np.shape(R)"
   ]
  },
  {
   "cell_type": "markdown",
   "id": "31d0766b",
   "metadata": {},
   "source": [
    "Calcolo r_s sotto forma di matrice 3x3. Ogni entrata contiene il prodotto tra un diverso elemento di 1/c e del termine in radice cubica."
   ]
  },
  {
   "cell_type": "markdown",
   "id": "ac456d8b",
   "metadata": {},
   "source": [
    "Nota: Le entrate della matrice sono:\n",
    "    np.outer(a,b) = \n",
    "    ([[a1b1, a1b2, a1b3],\n",
    "      [a2b1, a2b2, a2b3],\n",
    "      [a3b1, a3b2, a3b3]])"
   ]
  },
  {
   "cell_type": "code",
   "execution_count": 3,
   "id": "41bbf10f",
   "metadata": {},
   "outputs": [],
   "source": [
    "r_s = np.outer(1/c, np.cbrt(3 * M / (4 * np.pi * 200 * rho_m * (1+z)**3)))"
   ]
  },
  {
   "cell_type": "markdown",
   "id": "32fadf28",
   "metadata": {},
   "source": [
    "Calcolo rho_s."
   ]
  },
  {
   "cell_type": "code",
   "execution_count": 4,
   "id": "76f2b538",
   "metadata": {},
   "outputs": [],
   "source": [
    "f_c = np.log(1 + c) - c / (1 + c)\n",
    "delta_char = 200 * c**3 / (3 * f_c)\n",
    "rho_s = rho_m * (1+z)**3 * delta_char"
   ]
  },
  {
   "cell_type": "markdown",
   "id": "0d26e42b",
   "metadata": {},
   "source": [
    "Infine calcolo f(x). x sarà un array 1000x3x3 in cui ogni entrata è funzione di un diverso valore di R,c ed M. Allo stesso modo f sarà una matrice delle stesse dimensioni in cui ogni entrata è la funzione f applicata alla corrispondente entrata di x."
   ]
  },
  {
   "cell_type": "code",
   "execution_count": 5,
   "id": "95ddc8b9",
   "metadata": {},
   "outputs": [],
   "source": [
    "x = np.multiply.outer(R, 1/r_s)\n",
    "ones = np.ones((1000, 3, 3))"
   ]
  },
  {
   "cell_type": "code",
   "execution_count": 6,
   "id": "b8098f6c",
   "metadata": {},
   "outputs": [],
   "source": [
    "f = np.empty((1000, 3, 3))\n",
    "for i in range(1000):\n",
    "    for j in range(3):\n",
    "        for k in range(3):\n",
    "            if np.less(x, ones)[i, j, k]:\n",
    "                f[i, j, k] = (1 - (2 * np.arctanh(np.sqrt((1-x[i, j, k])/(1+x[i, j, k]))) / np.sqrt(1 - x[i, j, k]**2))) / (x[i, j, k]**2 - 1)\n",
    "            else: \n",
    "                if np.greater(x, ones)[i, j, k]:\n",
    "                    f[i, j, k] = (1 - (2 * np.arctan(np.sqrt((x[i, j, k]-1)/(1+x[i, j, k]))) / np.sqrt(x[i, j, k]**2 - 1))) / (x[i, j, k]**2 - 1)\n",
    "                else: \n",
    "                    f[i, j, k] = 1./3"
   ]
  },
  {
   "cell_type": "markdown",
   "id": "865bd373",
   "metadata": {},
   "source": [
    "Il risultato ottenuto è corretto, ma è poco efficiente questa implementazione, perché opera elemento per elemento su 9000 elementi diversi con 3 for innestati uno nell'altro. Posso piuttosto osservare che le funzioni che definiscono f negli intervalli x<1 e x>1 hanno domini disgiunti e utilizzare questo fatto a mio vantaggio."
   ]
  },
  {
   "cell_type": "code",
   "execution_count": 7,
   "id": "dee0005f",
   "metadata": {},
   "outputs": [
    {
     "name": "stderr",
     "output_type": "stream",
     "text": [
      "C:\\Users\\Ghigu\\AppData\\Local\\Temp\\ipykernel_15488\\4161407953.py:1: RuntimeWarning: invalid value encountered in sqrt\n",
      "  f1 = (1 - (2 * np.arctanh(np.sqrt((1-x)/(1+x))) / np.sqrt(1 - x**2))) / (x**2 - 1)\n",
      "C:\\Users\\Ghigu\\AppData\\Local\\Temp\\ipykernel_15488\\4161407953.py:2: RuntimeWarning: invalid value encountered in sqrt\n",
      "  f2 = (1 - (2 * np.arctan(np.sqrt((x-1)/(1+x))) / np.sqrt(x**2 - 1))) / (x**2 - 1)\n"
     ]
    }
   ],
   "source": [
    "f1 = (1 - (2 * np.arctanh(np.sqrt((1-x)/(1+x))) / np.sqrt(1 - x**2))) / (x**2 - 1)\n",
    "f2 = (1 - (2 * np.arctan(np.sqrt((x-1)/(1+x))) / np.sqrt(x**2 - 1))) / (x**2 - 1)\n",
    "f1[np.isnan(f1)] = 0\n",
    "f2[np.isnan(f2)] = 0\n",
    "f = f1 + f2\n",
    "f = np.where(f == 0., 1./3, f)"
   ]
  },
  {
   "cell_type": "markdown",
   "id": "ee698897",
   "metadata": {},
   "source": [
    "In conclusione posso calcolare Sigma. Sarà una matrice 1000x3x3 in cui il primo indice scorre sugli R, il secondo scorre sui c e il terzo scorre sugli M."
   ]
  },
  {
   "cell_type": "code",
   "execution_count": 8,
   "id": "5d56ab0a",
   "metadata": {},
   "outputs": [],
   "source": [
    "Sigma = 2* rho_s * r_s * f"
   ]
  },
  {
   "cell_type": "markdown",
   "id": "d1449f1f",
   "metadata": {},
   "source": [
    "Importo i file con i dati"
   ]
  },
  {
   "cell_type": "code",
   "execution_count": 9,
   "id": "1d04c722",
   "metadata": {},
   "outputs": [],
   "source": [
    "\n",
    "hdul = fits.open('halo_catalog.fits')"
   ]
  },
  {
   "cell_type": "raw",
   "id": "9b940058",
   "metadata": {},
   "source": [
    "Ora cerco informazioni sulle HDU del file .fits."
   ]
  },
  {
   "cell_type": "code",
   "execution_count": 10,
   "id": "52a4fb48",
   "metadata": {},
   "outputs": [
    {
     "name": "stdout",
     "output_type": "stream",
     "text": [
      "Filename: halo_catalog.fits\n",
      "No.    Name      Ver    Type      Cards   Dimensions   Format\n",
      "  0  PRIMARY       1 PrimaryHDU       4   ()      \n",
      "  1                1 BinTableHDU     14   40103R x 3C   [E, E, 8E]   \n"
     ]
    }
   ],
   "source": [
    "hdul.info()"
   ]
  },
  {
   "cell_type": "markdown",
   "id": "1e66a7c4",
   "metadata": {},
   "source": [
    "Ho trovato che ci sono 2 HDU: Primary e una tabella. La tabella contiene i miei dati, perciò procedo a leggere quella."
   ]
  },
  {
   "cell_type": "code",
   "execution_count": 11,
   "id": "48962fcb",
   "metadata": {},
   "outputs": [
    {
     "data": {
      "text/plain": [
       "FITS_rec([(0.5024944, 290.69226, [2.3511019e+15, 1.9926530e+15, 1.4960676e+15, 1.1866349e+15, 8.9633820e+14, 6.2538569e+14, 3.9431326e+14, 2.2858141e+14])],\n",
       "         dtype=(numpy.record, [('Z', '>f4'), ('LAMBDA_TR', '>f4'), ('SIGMA_of_R', '>f4', (8,))]))"
      ]
     },
     "execution_count": 11,
     "metadata": {},
     "output_type": "execute_result"
    }
   ],
   "source": [
    "data = hdul[1].data\n",
    "una_colonna = data[:1]\n",
    "una_colonna"
   ]
  },
  {
   "cell_type": "code",
   "execution_count": null,
   "id": "22389a40",
   "metadata": {},
   "outputs": [],
   "source": []
  }
 ],
 "metadata": {
  "kernelspec": {
   "display_name": "anaconda-panel-2023.05-py310",
   "language": "python",
   "name": "conda-env-anaconda-panel-2023.05-py310-py"
  },
  "language_info": {
   "codemirror_mode": {
    "name": "ipython",
    "version": 3
   },
   "file_extension": ".py",
   "mimetype": "text/x-python",
   "name": "python",
   "nbconvert_exporter": "python",
   "pygments_lexer": "ipython3",
   "version": "3.11.5"
  }
 },
 "nbformat": 4,
 "nbformat_minor": 5
}
