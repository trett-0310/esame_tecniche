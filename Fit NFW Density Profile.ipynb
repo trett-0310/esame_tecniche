{
 "cells": [
  {
   "cell_type": "code",
   "execution_count": 1,
   "id": "adbd0626",
   "metadata": {},
   "outputs": [],
   "source": [
    "import numpy as np\n",
    "import pandas as pd\n",
    "import matplotlib.pyplot as plt\n",
    "from astropy.io import fits"
   ]
  },
  {
   "cell_type": "markdown",
   "id": "70287f9c",
   "metadata": {},
   "source": [
    "Inizializzo le variabili di interesse e definisco il parametro rho_m."
   ]
  },
  {
   "cell_type": "code",
   "execution_count": 2,
   "id": "a858d315",
   "metadata": {},
   "outputs": [
    {
     "data": {
      "text/plain": [
       "38890852524.924385"
      ]
     },
     "execution_count": 2,
     "metadata": {},
     "output_type": "execute_result"
    }
   ],
   "source": [
    "rho_m = 0.286 * 0.7**2 *2.7751428946e11\n",
    "M = np.array([10**13.5, 10**14.0, 10**15.0])\n",
    "c = np.array([2, 5, 10])\n",
    "z = 0.\n",
    "R = np.linspace(0.03,1.0,1000)\n",
    "rho_m"
   ]
  },
  {
   "cell_type": "markdown",
   "id": "31d0766b",
   "metadata": {},
   "source": [
    "Calcolo r_s sotto forma di matrice 3x3. Ogni entrata contiene il prodotto tra un diverso elemento di 1/c e del termine in radice cubica."
   ]
  },
  {
   "cell_type": "markdown",
   "id": "ac456d8b",
   "metadata": {},
   "source": [
    "Nota: Le entrate della matrice sono:\n",
    "    np.outer(a,b) = \n",
    "    ([[a1b1, a1b2, a1b3],\n",
    "      [a2b1, a2b2, a2b3],\n",
    "      [a3b1, a3b2, a3b3]])"
   ]
  },
  {
   "cell_type": "code",
   "execution_count": 3,
   "id": "41bbf10f",
   "metadata": {},
   "outputs": [
    {
     "data": {
      "text/plain": [
       "array([[0.49504877, 0.19801951, 0.09900975],\n",
       "       [0.72663221, 0.29065289, 0.14532644],\n",
       "       [1.56548165, 0.62619266, 0.31309633]])"
      ]
     },
     "execution_count": 3,
     "metadata": {},
     "output_type": "execute_result"
    }
   ],
   "source": [
    "r_s = np.outer(np.cbrt(3 * M / (4 * np.pi * 200 * rho_m * (1+z)**3)), 1/c)\n",
    "r_s"
   ]
  },
  {
   "cell_type": "markdown",
   "id": "32fadf28",
   "metadata": {},
   "source": [
    "Calcolo rho_s."
   ]
  },
  {
   "cell_type": "code",
   "execution_count": 4,
   "id": "76f2b538",
   "metadata": {},
   "outputs": [
    {
     "data": {
      "text/plain": [
       "array([4.80194426e+13, 3.38148581e+14, 1.74148032e+15])"
      ]
     },
     "execution_count": 4,
     "metadata": {},
     "output_type": "execute_result"
    }
   ],
   "source": [
    "f_c = np.log(1 + c) - c / (1 + c)\n",
    "delta_char = 200 * c**3 / (3 * f_c)\n",
    "rho_s = rho_m * (1+z)**3 * delta_char\n",
    "rho_s"
   ]
  },
  {
   "cell_type": "markdown",
   "id": "0d26e42b",
   "metadata": {},
   "source": [
    "Infine calcolo f(x). x sarà un array 1000x3x3 in cui ogni entrata è funzione di un diverso valore di R,c ed M. Allo stesso modo f sarà una matrice delle stesse dimensioni in cui ogni entrata è la funzione f applicata alla corrispondente entrata di x."
   ]
  },
  {
   "cell_type": "code",
   "execution_count": 5,
   "id": "95ddc8b9",
   "metadata": {},
   "outputs": [],
   "source": [
    "x = np.multiply.outer(R, 1/r_s)\n",
    "ones = np.ones((1000, 3, 3))"
   ]
  },
  {
   "cell_type": "code",
   "execution_count": 6,
   "id": "b8098f6c",
   "metadata": {},
   "outputs": [],
   "source": [
    "f = np.empty((1000, 3, 3))\n",
    "for i in range(1000):\n",
    "    for j in range(3):\n",
    "        for k in range(3):\n",
    "            if np.less(x, ones)[i, j, k]:\n",
    "                f[i, j, k] = (1 - (2 * np.arctanh(np.sqrt((1-x[i, j, k])/(1+x[i, j, k]))) / np.sqrt(1 - x[i, j, k]**2))) / (x[i, j, k]**2 - 1)\n",
    "            else: \n",
    "                if np.greater(x, ones)[i, j, k]:\n",
    "                    f[i, j, k] = (1 - (2 * np.arctan(np.sqrt((x[i, j, k]-1)/(1+x[i, j, k]))) / np.sqrt(x[i, j, k]**2 - 1))) / (x[i, j, k]**2 - 1)\n",
    "                else: \n",
    "                    f[i, j, k] = 1./3"
   ]
  },
  {
   "cell_type": "markdown",
   "id": "865bd373",
   "metadata": {},
   "source": [
    "Il risultato ottenuto è corretto, ma è poco efficiente questa implementazione, perché opera elemento per elemento su 9000 elementi diversi con 3 for innestati uno nell'altro. Posso piuttosto osservare che le funzioni che definiscono f negli intervalli x<1 e x>1 hanno domini disgiunti e utilizzare questo fatto a mio vantaggio."
   ]
  },
  {
   "cell_type": "code",
   "execution_count": 7,
   "id": "dee0005f",
   "metadata": {},
   "outputs": [
    {
     "name": "stderr",
     "output_type": "stream",
     "text": [
      "C:\\Users\\Ghigu\\AppData\\Local\\Temp\\ipykernel_3084\\1803051913.py:1: RuntimeWarning: invalid value encountered in sqrt\n",
      "  f1 = (1 - (2 * np.arctanh(np.sqrt((1-x)/(1+x))) / np.sqrt(1 - x**2))) / (x**2 - 1)\n",
      "C:\\Users\\Ghigu\\AppData\\Local\\Temp\\ipykernel_3084\\1803051913.py:2: RuntimeWarning: invalid value encountered in sqrt\n",
      "  f2 = (1 - (2 * np.arctan(np.sqrt((x-1)/(1+x))) / np.sqrt(x**2 - 1))) / (x**2 - 1)\n"
     ]
    },
    {
     "data": {
      "text/plain": [
       "array([[[2.51134577, 1.64228572, 1.05187222],\n",
       "        [2.88817796, 1.99859943, 1.36815931],\n",
       "        [3.65000087, 2.74161541, 2.06918868]],\n",
       "\n",
       "       [[2.48027929, 1.61343523, 1.0270845 ],\n",
       "        [2.85675277, 1.96850024, 1.34079687],\n",
       "        [3.61826755, 2.71030554, 2.03890923]],\n",
       "\n",
       "       [[2.45020997, 1.58560069, 1.00330256],\n",
       "        [2.82631925, 1.93940911, 1.31445248],\n",
       "        [3.58752024, 2.67998921, 2.00963616]],\n",
       "\n",
       "       ...,\n",
       "\n",
       "       [[0.1302552 , 0.02960447, 0.00848095],\n",
       "        [0.22312385, 0.05669221, 0.01711937],\n",
       "        [0.54876325, 0.1823138 , 0.0640137 ]],\n",
       "\n",
       "       [[0.13006865, 0.02955446, 0.00846565],\n",
       "        [0.22283572, 0.05660168, 0.01708944],\n",
       "        [0.54822139, 0.1820681 , 0.06391279]],\n",
       "\n",
       "       [[0.1298825 , 0.02950457, 0.00845038],\n",
       "        [0.22254816, 0.05651137, 0.01705959],\n",
       "        [0.54768038, 0.1818229 , 0.06381212]]])"
      ]
     },
     "execution_count": 7,
     "metadata": {},
     "output_type": "execute_result"
    }
   ],
   "source": [
    "f1 = (1 - (2 * np.arctanh(np.sqrt((1-x)/(1+x))) / np.sqrt(1 - x**2))) / (x**2 - 1)\n",
    "f2 = (1 - (2 * np.arctan(np.sqrt((x-1)/(1+x))) / np.sqrt(x**2 - 1))) / (x**2 - 1)\n",
    "f1[np.isnan(f1)] = 0\n",
    "f2[np.isnan(f2)] = 0\n",
    "f = f1 + f2\n",
    "f = np.where(f == 0., 1./3, f)\n",
    "f"
   ]
  },
  {
   "cell_type": "markdown",
   "id": "ee698897",
   "metadata": {},
   "source": [
    "In conclusione posso calcolare Sigma. Sarà una matrice 1000x3x3 in cui il primo indice scorre sugli R, il secondo scorre sugli M e il terzo scorre sui c."
   ]
  },
  {
   "cell_type": "code",
   "execution_count": 8,
   "id": "5d56ab0a",
   "metadata": {},
   "outputs": [
    {
     "data": {
      "text/plain": [
       "array([[[1.19399251e+14, 2.19934952e+14, 3.62735057e+14],\n",
       "        [2.01551349e+14, 3.92860137e+14, 6.92516110e+14],\n",
       "        [5.48767092e+14, 1.16105307e+15, 2.25645480e+15]],\n",
       "\n",
       "       [[1.17922229e+14, 2.16071294e+14, 3.54187085e+14],\n",
       "        [1.99358343e+14, 3.86943608e+14, 6.78666167e+14],\n",
       "        [5.43996079e+14, 1.14779358e+15, 2.22343499e+15]],\n",
       "\n",
       "       [[1.16492615e+14, 2.12343692e+14, 3.45985949e+14],\n",
       "        [1.97234542e+14, 3.81225231e+14, 6.65331526e+14],\n",
       "        [5.39373310e+14, 1.13495485e+15, 2.19151264e+15]],\n",
       "\n",
       "       ...,\n",
       "\n",
       "       [[6.19284436e+12, 3.96463165e+12, 2.92463244e+12],\n",
       "        [1.55706862e+13, 1.11438591e+13, 8.66525025e+12],\n",
       "        [8.25049708e+13, 7.72084946e+13, 6.98070856e+13]],\n",
       "\n",
       "       [[6.18397483e+12, 3.95793368e+12, 2.91935338e+12],\n",
       "        [1.55505792e+13, 1.11260634e+13, 8.65009877e+12],\n",
       "        [8.24235030e+13, 7.71044412e+13, 6.96970413e+13]],\n",
       "\n",
       "       [[6.17512452e+12, 3.95125271e+12, 2.91408860e+12],\n",
       "        [1.55305118e+13, 1.11083104e+13, 8.63498703e+12],\n",
       "        [8.23421635e+13, 7.70006011e+13, 6.95872582e+13]]])"
      ]
     },
     "execution_count": 8,
     "metadata": {},
     "output_type": "execute_result"
    }
   ],
   "source": [
    "Sigma = 2* rho_s * r_s * f\n",
    "Sigma"
   ]
  },
  {
   "cell_type": "markdown",
   "id": "4f0b7621",
   "metadata": {},
   "source": [
    "Ho calcolato tutti i valori di Sigma di mio interesse e procedo a graficarli."
   ]
  },
  {
   "cell_type": "code",
   "execution_count": 9,
   "id": "9ff9eaab",
   "metadata": {},
   "outputs": [
    {
     "data": {
      "image/png": "[encoded data removed]",
      "text/plain": [
       "<Figure size 1500x1500 with 9 Axes>"
      ]
     },
     "metadata": {},
     "output_type": "display_data"
    }
   ],
   "source": [
    "fig, axs = plt.subplots(3, 3, layout = 'constrained')\n",
    "fig.set_size_inches(15, 15)\n",
    "\n",
    "axs[0, 0].plot(R, Sigma[:, 0, 0])\n",
    "axs[0, 0].set_title('M = 10**13.5, c = 2, z= 0')\n",
    "axs[0, 1].plot(R, Sigma[:, 0, 1])\n",
    "axs[0, 1].set_title('M = 10**13.5, c = 5, z= 0')\n",
    "axs[0, 2].plot(R, Sigma[:, 0, 2])\n",
    "axs[0, 2].set_title('M = 10**13.5, c = 10, z= 0')\n",
    "axs[1, 0].plot(R, Sigma[:, 1, 0])\n",
    "axs[1, 0].set_title('M = 10**14, c = 2, z= 0')\n",
    "axs[1, 1].plot(R, Sigma[:, 1, 1])\n",
    "axs[1, 1].set_title('M = 10**14, c = 5, z= 0')\n",
    "axs[1, 2].plot(R, Sigma[:, 1, 2])\n",
    "axs[1, 2].set_title('M = 10**14, c = 10, z= 0')\n",
    "axs[2, 0].plot(R, Sigma[:, 2, 0])\n",
    "axs[2, 0].set_title('M = 10**15, c = 2, z= 0')\n",
    "axs[2, 1].plot(R, Sigma[:, 2, 1])\n",
    "axs[2, 1].set_title('M = 10**15, c = 5, z= 0')\n",
    "axs[2, 2].plot(R, Sigma[:, 2, 2])\n",
    "axs[2, 2].set_title('M = 10**15, c = 10, z= 0')\n",
    "\n",
    "\n",
    "\n",
    "for ax in axs.flat:\n",
    "    ax.set(xlabel = 'R [Mpc]', ylabel = 'Sigma(R, M, c, z) [M_sol / Mpc**2]', xscale = 'log', yscale = 'log', ylim = [2e12, 3e15])"
   ]
  },
  {
   "cell_type": "markdown",
   "id": "d1449f1f",
   "metadata": {},
   "source": [
    "Importo i file con i dati"
   ]
  },
  {
   "cell_type": "raw",
   "id": "9b940058",
   "metadata": {},
   "source": [
    "Ora cerco informazioni sulle HDU del file .fits."
   ]
  },
  {
   "cell_type": "code",
   "execution_count": 10,
   "id": "52a4fb48",
   "metadata": {},
   "outputs": [
    {
     "name": "stdout",
     "output_type": "stream",
     "text": [
      "Filename: halo_catalog.fits\n",
      "No.    Name      Ver    Type      Cards   Dimensions   Format\n",
      "  0  PRIMARY       1 PrimaryHDU       4   ()      \n",
      "  1                1 BinTableHDU     14   40103R x 3C   [E, E, 8E]   \n"
     ]
    }
   ],
   "source": [
    "hdul = fits.open('halo_catalog.fits')\n",
    "hdul.info()"
   ]
  },
  {
   "cell_type": "markdown",
   "id": "1e66a7c4",
   "metadata": {},
   "source": [
    "Ho trovato che ci sono 2 HDU: Primary e una tabella. La tabella contiene i miei dati, perciò procedo a leggere quella."
   ]
  },
  {
   "cell_type": "code",
   "execution_count": 11,
   "id": "48962fcb",
   "metadata": {
    "scrolled": false
   },
   "outputs": [
    {
     "data": {
      "text/plain": [
       "FITS_rec([(0.5024944 , 290.69226 , [2.35110187e+15, 1.99265303e+15, 1.49606757e+15, 1.18663491e+15, 8.96338200e+14, 6.25385692e+14, 3.94313263e+14, 2.28581414e+14]),\n",
       "          (0.6013021 , 119.24578 , [2.10765923e+15, 1.98006381e+15, 1.65222587e+15, 1.22958646e+15, 9.86441849e+14, 7.12462798e+14, 4.49373637e+14, 2.62464394e+14]),\n",
       "          (0.20896086, 126.37386 , [1.81413701e+15, 1.73958698e+15, 1.34463924e+15, 1.12188935e+15, 8.70322039e+14, 5.94193290e+14, 3.66820205e+14, 1.86497462e+14]),\n",
       "          ...,\n",
       "          (0.62278223,   8.831167, [6.41927624e+14, 4.42689795e+14, 3.83484309e+14, 2.78102488e+14, 1.81649199e+14, 1.09778534e+14, 7.18503737e+13, 5.32619272e+13]),\n",
       "          (0.5350497 ,  12.180819, [3.16326053e+14, 3.31781459e+14, 2.49146104e+14, 1.71900714e+14, 1.45082435e+14, 1.28306419e+14, 8.72312723e+13, 5.76063915e+13]),\n",
       "          (0.49350488,  17.996544, [6.87486087e+14, 4.99000340e+14, 3.65499804e+14, 2.43635778e+14, 1.55504676e+14, 9.16257453e+13, 5.05067728e+13, 3.65255973e+13])],\n",
       "         dtype=(numpy.record, [('Z', '>f4'), ('LAMBDA_TR', '>f4'), ('SIGMA_of_R', '>f4', (8,))]))"
      ]
     },
     "execution_count": 11,
     "metadata": {},
     "output_type": "execute_result"
    }
   ],
   "source": [
    "data = hdul[1].data\n",
    "data"
   ]
  },
  {
   "cell_type": "code",
   "execution_count": 12,
   "id": "2e31d80f",
   "metadata": {},
   "outputs": [
    {
     "data": {
      "text/plain": [
       "['Z', 'LAMBDA_TR', 'SIGMA_of_R']"
      ]
     },
     "execution_count": 12,
     "metadata": {},
     "output_type": "execute_result"
    }
   ],
   "source": [
    "data.columns.names"
   ]
  },
  {
   "cell_type": "code",
   "execution_count": 13,
   "id": "adae50d7",
   "metadata": {},
   "outputs": [
    {
     "data": {
      "text/plain": [
       "(40103, 8)"
      ]
     },
     "execution_count": 13,
     "metadata": {},
     "output_type": "execute_result"
    }
   ],
   "source": [
    "SigR = data['SIGMA_of_R'] #questo è un numpyarray\n",
    "np.shape(SigR)"
   ]
  },
  {
   "cell_type": "code",
   "execution_count": 14,
   "id": "fb86ee61",
   "metadata": {},
   "outputs": [
    {
     "data": {
      "text/html": [
       "<div>\n",
       "<style scoped>\n",
       "    .dataframe tbody tr th:only-of-type {\n",
       "        vertical-align: middle;\n",
       "    }\n",
       "\n",
       "    .dataframe tbody tr th {\n",
       "        vertical-align: top;\n",
       "    }\n",
       "\n",
       "    .dataframe thead th {\n",
       "        text-align: right;\n",
       "    }\n",
       "</style>\n",
       "<table border=\"1\" class=\"dataframe\">\n",
       "  <thead>\n",
       "    <tr style=\"text-align: right;\">\n",
       "      <th></th>\n",
       "      <th>Z</th>\n",
       "      <th>LAMBDA_TR</th>\n",
       "    </tr>\n",
       "  </thead>\n",
       "  <tbody>\n",
       "    <tr>\n",
       "      <th>0</th>\n",
       "      <td>0.502494</td>\n",
       "      <td>290.692261</td>\n",
       "    </tr>\n",
       "    <tr>\n",
       "      <th>1</th>\n",
       "      <td>0.601302</td>\n",
       "      <td>119.245781</td>\n",
       "    </tr>\n",
       "    <tr>\n",
       "      <th>2</th>\n",
       "      <td>0.208961</td>\n",
       "      <td>126.373863</td>\n",
       "    </tr>\n",
       "    <tr>\n",
       "      <th>3</th>\n",
       "      <td>0.212769</td>\n",
       "      <td>188.812729</td>\n",
       "    </tr>\n",
       "    <tr>\n",
       "      <th>4</th>\n",
       "      <td>0.458008</td>\n",
       "      <td>147.349625</td>\n",
       "    </tr>\n",
       "    <tr>\n",
       "      <th>...</th>\n",
       "      <td>...</td>\n",
       "      <td>...</td>\n",
       "    </tr>\n",
       "    <tr>\n",
       "      <th>40098</th>\n",
       "      <td>0.479437</td>\n",
       "      <td>9.510518</td>\n",
       "    </tr>\n",
       "    <tr>\n",
       "      <th>40099</th>\n",
       "      <td>0.599918</td>\n",
       "      <td>17.036392</td>\n",
       "    </tr>\n",
       "    <tr>\n",
       "      <th>40100</th>\n",
       "      <td>0.622782</td>\n",
       "      <td>8.831167</td>\n",
       "    </tr>\n",
       "    <tr>\n",
       "      <th>40101</th>\n",
       "      <td>0.535050</td>\n",
       "      <td>12.180819</td>\n",
       "    </tr>\n",
       "    <tr>\n",
       "      <th>40102</th>\n",
       "      <td>0.493505</td>\n",
       "      <td>17.996544</td>\n",
       "    </tr>\n",
       "  </tbody>\n",
       "</table>\n",
       "<p>40103 rows × 2 columns</p>\n",
       "</div>"
      ],
      "text/plain": [
       "              Z   LAMBDA_TR\n",
       "0      0.502494  290.692261\n",
       "1      0.601302  119.245781\n",
       "2      0.208961  126.373863\n",
       "3      0.212769  188.812729\n",
       "4      0.458008  147.349625\n",
       "...         ...         ...\n",
       "40098  0.479437    9.510518\n",
       "40099  0.599918   17.036392\n",
       "40100  0.622782    8.831167\n",
       "40101  0.535050   12.180819\n",
       "40102  0.493505   17.996544\n",
       "\n",
       "[40103 rows x 2 columns]"
      ]
     },
     "execution_count": 14,
     "metadata": {},
     "output_type": "execute_result"
    }
   ],
   "source": [
    "data_dict = {'Z': data['Z'], 'LAMBDA_TR': data['LAMBDA_TR']}\n",
    "df1 = pd.DataFrame(data_dict)\n",
    "df1"
   ]
  },
  {
   "cell_type": "code",
   "execution_count": 15,
   "id": "7c450d2b",
   "metadata": {},
   "outputs": [
    {
     "data": {
      "text/html": [
       "<div>\n",
       "<style scoped>\n",
       "    .dataframe tbody tr th:only-of-type {\n",
       "        vertical-align: middle;\n",
       "    }\n",
       "\n",
       "    .dataframe tbody tr th {\n",
       "        vertical-align: top;\n",
       "    }\n",
       "\n",
       "    .dataframe thead th {\n",
       "        text-align: right;\n",
       "    }\n",
       "</style>\n",
       "<table border=\"1\" class=\"dataframe\">\n",
       "  <thead>\n",
       "    <tr style=\"text-align: right;\">\n",
       "      <th></th>\n",
       "      <th>SIGMA_of_R0</th>\n",
       "      <th>SIGMA_of_R1</th>\n",
       "      <th>SIGMA_of_R2</th>\n",
       "      <th>SIGMA_of_R3</th>\n",
       "      <th>SIGMA_of_R4</th>\n",
       "      <th>SIGMA_of_R5</th>\n",
       "      <th>SIGMA_of_R6</th>\n",
       "      <th>SIGMA_of_R7</th>\n",
       "    </tr>\n",
       "  </thead>\n",
       "  <tbody>\n",
       "    <tr>\n",
       "      <th>0</th>\n",
       "      <td>2.351102e+15</td>\n",
       "      <td>1.992653e+15</td>\n",
       "      <td>1.496068e+15</td>\n",
       "      <td>1.186635e+15</td>\n",
       "      <td>8.963382e+14</td>\n",
       "      <td>6.253857e+14</td>\n",
       "      <td>3.943133e+14</td>\n",
       "      <td>2.285814e+14</td>\n",
       "    </tr>\n",
       "    <tr>\n",
       "      <th>1</th>\n",
       "      <td>2.107659e+15</td>\n",
       "      <td>1.980064e+15</td>\n",
       "      <td>1.652226e+15</td>\n",
       "      <td>1.229586e+15</td>\n",
       "      <td>9.864418e+14</td>\n",
       "      <td>7.124628e+14</td>\n",
       "      <td>4.493736e+14</td>\n",
       "      <td>2.624644e+14</td>\n",
       "    </tr>\n",
       "    <tr>\n",
       "      <th>2</th>\n",
       "      <td>1.814137e+15</td>\n",
       "      <td>1.739587e+15</td>\n",
       "      <td>1.344639e+15</td>\n",
       "      <td>1.121889e+15</td>\n",
       "      <td>8.703220e+14</td>\n",
       "      <td>5.941933e+14</td>\n",
       "      <td>3.668202e+14</td>\n",
       "      <td>1.864975e+14</td>\n",
       "    </tr>\n",
       "    <tr>\n",
       "      <th>3</th>\n",
       "      <td>2.349731e+15</td>\n",
       "      <td>1.945845e+15</td>\n",
       "      <td>1.539410e+15</td>\n",
       "      <td>1.077038e+15</td>\n",
       "      <td>7.059310e+14</td>\n",
       "      <td>4.613497e+14</td>\n",
       "      <td>2.969404e+14</td>\n",
       "      <td>1.913648e+14</td>\n",
       "    </tr>\n",
       "    <tr>\n",
       "      <th>4</th>\n",
       "      <td>2.240655e+15</td>\n",
       "      <td>1.679705e+15</td>\n",
       "      <td>1.314239e+15</td>\n",
       "      <td>1.120241e+15</td>\n",
       "      <td>8.280310e+14</td>\n",
       "      <td>5.703857e+14</td>\n",
       "      <td>3.796933e+14</td>\n",
       "      <td>2.315893e+14</td>\n",
       "    </tr>\n",
       "    <tr>\n",
       "      <th>...</th>\n",
       "      <td>...</td>\n",
       "      <td>...</td>\n",
       "      <td>...</td>\n",
       "      <td>...</td>\n",
       "      <td>...</td>\n",
       "      <td>...</td>\n",
       "      <td>...</td>\n",
       "      <td>...</td>\n",
       "    </tr>\n",
       "    <tr>\n",
       "      <th>40098</th>\n",
       "      <td>7.317734e+14</td>\n",
       "      <td>7.352522e+14</td>\n",
       "      <td>5.704476e+14</td>\n",
       "      <td>3.042415e+14</td>\n",
       "      <td>1.612240e+14</td>\n",
       "      <td>9.388085e+13</td>\n",
       "      <td>6.723513e+13</td>\n",
       "      <td>6.424537e+13</td>\n",
       "    </tr>\n",
       "    <tr>\n",
       "      <th>40099</th>\n",
       "      <td>5.234640e+14</td>\n",
       "      <td>4.248873e+14</td>\n",
       "      <td>3.092860e+14</td>\n",
       "      <td>2.059087e+14</td>\n",
       "      <td>1.372936e+14</td>\n",
       "      <td>8.645296e+13</td>\n",
       "      <td>4.359242e+13</td>\n",
       "      <td>2.579911e+13</td>\n",
       "    </tr>\n",
       "    <tr>\n",
       "      <th>40100</th>\n",
       "      <td>6.419276e+14</td>\n",
       "      <td>4.426898e+14</td>\n",
       "      <td>3.834843e+14</td>\n",
       "      <td>2.781025e+14</td>\n",
       "      <td>1.816492e+14</td>\n",
       "      <td>1.097785e+14</td>\n",
       "      <td>7.185037e+13</td>\n",
       "      <td>5.326193e+13</td>\n",
       "    </tr>\n",
       "    <tr>\n",
       "      <th>40101</th>\n",
       "      <td>3.163261e+14</td>\n",
       "      <td>3.317815e+14</td>\n",
       "      <td>2.491461e+14</td>\n",
       "      <td>1.719007e+14</td>\n",
       "      <td>1.450824e+14</td>\n",
       "      <td>1.283064e+14</td>\n",
       "      <td>8.723127e+13</td>\n",
       "      <td>5.760639e+13</td>\n",
       "    </tr>\n",
       "    <tr>\n",
       "      <th>40102</th>\n",
       "      <td>6.874861e+14</td>\n",
       "      <td>4.990003e+14</td>\n",
       "      <td>3.654998e+14</td>\n",
       "      <td>2.436358e+14</td>\n",
       "      <td>1.555047e+14</td>\n",
       "      <td>9.162575e+13</td>\n",
       "      <td>5.050677e+13</td>\n",
       "      <td>3.652560e+13</td>\n",
       "    </tr>\n",
       "  </tbody>\n",
       "</table>\n",
       "<p>40103 rows × 8 columns</p>\n",
       "</div>"
      ],
      "text/plain": [
       "        SIGMA_of_R0   SIGMA_of_R1   SIGMA_of_R2   SIGMA_of_R3   SIGMA_of_R4  \\\n",
       "0      2.351102e+15  1.992653e+15  1.496068e+15  1.186635e+15  8.963382e+14   \n",
       "1      2.107659e+15  1.980064e+15  1.652226e+15  1.229586e+15  9.864418e+14   \n",
       "2      1.814137e+15  1.739587e+15  1.344639e+15  1.121889e+15  8.703220e+14   \n",
       "3      2.349731e+15  1.945845e+15  1.539410e+15  1.077038e+15  7.059310e+14   \n",
       "4      2.240655e+15  1.679705e+15  1.314239e+15  1.120241e+15  8.280310e+14   \n",
       "...             ...           ...           ...           ...           ...   \n",
       "40098  7.317734e+14  7.352522e+14  5.704476e+14  3.042415e+14  1.612240e+14   \n",
       "40099  5.234640e+14  4.248873e+14  3.092860e+14  2.059087e+14  1.372936e+14   \n",
       "40100  6.419276e+14  4.426898e+14  3.834843e+14  2.781025e+14  1.816492e+14   \n",
       "40101  3.163261e+14  3.317815e+14  2.491461e+14  1.719007e+14  1.450824e+14   \n",
       "40102  6.874861e+14  4.990003e+14  3.654998e+14  2.436358e+14  1.555047e+14   \n",
       "\n",
       "        SIGMA_of_R5   SIGMA_of_R6   SIGMA_of_R7  \n",
       "0      6.253857e+14  3.943133e+14  2.285814e+14  \n",
       "1      7.124628e+14  4.493736e+14  2.624644e+14  \n",
       "2      5.941933e+14  3.668202e+14  1.864975e+14  \n",
       "3      4.613497e+14  2.969404e+14  1.913648e+14  \n",
       "4      5.703857e+14  3.796933e+14  2.315893e+14  \n",
       "...             ...           ...           ...  \n",
       "40098  9.388085e+13  6.723513e+13  6.424537e+13  \n",
       "40099  8.645296e+13  4.359242e+13  2.579911e+13  \n",
       "40100  1.097785e+14  7.185037e+13  5.326193e+13  \n",
       "40101  1.283064e+14  8.723127e+13  5.760639e+13  \n",
       "40102  9.162575e+13  5.050677e+13  3.652560e+13  \n",
       "\n",
       "[40103 rows x 8 columns]"
      ]
     },
     "execution_count": 15,
     "metadata": {},
     "output_type": "execute_result"
    }
   ],
   "source": [
    "df2 = pd.DataFrame(SigR, columns = ['SIGMA_of_R0', 'SIGMA_of_R1', 'SIGMA_of_R2', 'SIGMA_of_R3', 'SIGMA_of_R4', 'SIGMA_of_R5', 'SIGMA_of_R6', 'SIGMA_of_R7'])\n",
    "df2"
   ]
  },
  {
   "cell_type": "code",
   "execution_count": 17,
   "id": "08037cb4",
   "metadata": {},
   "outputs": [
    {
     "data": {
      "text/html": [
       "<div>\n",
       "<style scoped>\n",
       "    .dataframe tbody tr th:only-of-type {\n",
       "        vertical-align: middle;\n",
       "    }\n",
       "\n",
       "    .dataframe tbody tr th {\n",
       "        vertical-align: top;\n",
       "    }\n",
       "\n",
       "    .dataframe thead th {\n",
       "        text-align: right;\n",
       "    }\n",
       "</style>\n",
       "<table border=\"1\" class=\"dataframe\">\n",
       "  <thead>\n",
       "    <tr style=\"text-align: right;\">\n",
       "      <th></th>\n",
       "      <th>Z</th>\n",
       "      <th>LAMBDA_TR</th>\n",
       "      <th>SIGMA_of_R0</th>\n",
       "      <th>SIGMA_of_R1</th>\n",
       "      <th>SIGMA_of_R2</th>\n",
       "      <th>SIGMA_of_R3</th>\n",
       "      <th>SIGMA_of_R4</th>\n",
       "      <th>SIGMA_of_R5</th>\n",
       "      <th>SIGMA_of_R6</th>\n",
       "      <th>SIGMA_of_R7</th>\n",
       "    </tr>\n",
       "  </thead>\n",
       "  <tbody>\n",
       "    <tr>\n",
       "      <th>0</th>\n",
       "      <td>0.502494</td>\n",
       "      <td>290.692261</td>\n",
       "      <td>2.351102e+15</td>\n",
       "      <td>1.992653e+15</td>\n",
       "      <td>1.496068e+15</td>\n",
       "      <td>1.186635e+15</td>\n",
       "      <td>8.963382e+14</td>\n",
       "      <td>6.253857e+14</td>\n",
       "      <td>3.943133e+14</td>\n",
       "      <td>2.285814e+14</td>\n",
       "    </tr>\n",
       "    <tr>\n",
       "      <th>1</th>\n",
       "      <td>0.601302</td>\n",
       "      <td>119.245781</td>\n",
       "      <td>2.107659e+15</td>\n",
       "      <td>1.980064e+15</td>\n",
       "      <td>1.652226e+15</td>\n",
       "      <td>1.229586e+15</td>\n",
       "      <td>9.864418e+14</td>\n",
       "      <td>7.124628e+14</td>\n",
       "      <td>4.493736e+14</td>\n",
       "      <td>2.624644e+14</td>\n",
       "    </tr>\n",
       "    <tr>\n",
       "      <th>2</th>\n",
       "      <td>0.208961</td>\n",
       "      <td>126.373863</td>\n",
       "      <td>1.814137e+15</td>\n",
       "      <td>1.739587e+15</td>\n",
       "      <td>1.344639e+15</td>\n",
       "      <td>1.121889e+15</td>\n",
       "      <td>8.703220e+14</td>\n",
       "      <td>5.941933e+14</td>\n",
       "      <td>3.668202e+14</td>\n",
       "      <td>1.864975e+14</td>\n",
       "    </tr>\n",
       "    <tr>\n",
       "      <th>3</th>\n",
       "      <td>0.212769</td>\n",
       "      <td>188.812729</td>\n",
       "      <td>2.349731e+15</td>\n",
       "      <td>1.945845e+15</td>\n",
       "      <td>1.539410e+15</td>\n",
       "      <td>1.077038e+15</td>\n",
       "      <td>7.059310e+14</td>\n",
       "      <td>4.613497e+14</td>\n",
       "      <td>2.969404e+14</td>\n",
       "      <td>1.913648e+14</td>\n",
       "    </tr>\n",
       "    <tr>\n",
       "      <th>4</th>\n",
       "      <td>0.458008</td>\n",
       "      <td>147.349625</td>\n",
       "      <td>2.240655e+15</td>\n",
       "      <td>1.679705e+15</td>\n",
       "      <td>1.314239e+15</td>\n",
       "      <td>1.120241e+15</td>\n",
       "      <td>8.280310e+14</td>\n",
       "      <td>5.703857e+14</td>\n",
       "      <td>3.796933e+14</td>\n",
       "      <td>2.315893e+14</td>\n",
       "    </tr>\n",
       "    <tr>\n",
       "      <th>...</th>\n",
       "      <td>...</td>\n",
       "      <td>...</td>\n",
       "      <td>...</td>\n",
       "      <td>...</td>\n",
       "      <td>...</td>\n",
       "      <td>...</td>\n",
       "      <td>...</td>\n",
       "      <td>...</td>\n",
       "      <td>...</td>\n",
       "      <td>...</td>\n",
       "    </tr>\n",
       "    <tr>\n",
       "      <th>40098</th>\n",
       "      <td>0.479437</td>\n",
       "      <td>9.510518</td>\n",
       "      <td>7.317734e+14</td>\n",
       "      <td>7.352522e+14</td>\n",
       "      <td>5.704476e+14</td>\n",
       "      <td>3.042415e+14</td>\n",
       "      <td>1.612240e+14</td>\n",
       "      <td>9.388085e+13</td>\n",
       "      <td>6.723513e+13</td>\n",
       "      <td>6.424537e+13</td>\n",
       "    </tr>\n",
       "    <tr>\n",
       "      <th>40099</th>\n",
       "      <td>0.599918</td>\n",
       "      <td>17.036392</td>\n",
       "      <td>5.234640e+14</td>\n",
       "      <td>4.248873e+14</td>\n",
       "      <td>3.092860e+14</td>\n",
       "      <td>2.059087e+14</td>\n",
       "      <td>1.372936e+14</td>\n",
       "      <td>8.645296e+13</td>\n",
       "      <td>4.359242e+13</td>\n",
       "      <td>2.579911e+13</td>\n",
       "    </tr>\n",
       "    <tr>\n",
       "      <th>40100</th>\n",
       "      <td>0.622782</td>\n",
       "      <td>8.831167</td>\n",
       "      <td>6.419276e+14</td>\n",
       "      <td>4.426898e+14</td>\n",
       "      <td>3.834843e+14</td>\n",
       "      <td>2.781025e+14</td>\n",
       "      <td>1.816492e+14</td>\n",
       "      <td>1.097785e+14</td>\n",
       "      <td>7.185037e+13</td>\n",
       "      <td>5.326193e+13</td>\n",
       "    </tr>\n",
       "    <tr>\n",
       "      <th>40101</th>\n",
       "      <td>0.535050</td>\n",
       "      <td>12.180819</td>\n",
       "      <td>3.163261e+14</td>\n",
       "      <td>3.317815e+14</td>\n",
       "      <td>2.491461e+14</td>\n",
       "      <td>1.719007e+14</td>\n",
       "      <td>1.450824e+14</td>\n",
       "      <td>1.283064e+14</td>\n",
       "      <td>8.723127e+13</td>\n",
       "      <td>5.760639e+13</td>\n",
       "    </tr>\n",
       "    <tr>\n",
       "      <th>40102</th>\n",
       "      <td>0.493505</td>\n",
       "      <td>17.996544</td>\n",
       "      <td>6.874861e+14</td>\n",
       "      <td>4.990003e+14</td>\n",
       "      <td>3.654998e+14</td>\n",
       "      <td>2.436358e+14</td>\n",
       "      <td>1.555047e+14</td>\n",
       "      <td>9.162575e+13</td>\n",
       "      <td>5.050677e+13</td>\n",
       "      <td>3.652560e+13</td>\n",
       "    </tr>\n",
       "  </tbody>\n",
       "</table>\n",
       "<p>40103 rows × 10 columns</p>\n",
       "</div>"
      ],
      "text/plain": [
       "              Z   LAMBDA_TR   SIGMA_of_R0   SIGMA_of_R1   SIGMA_of_R2  \\\n",
       "0      0.502494  290.692261  2.351102e+15  1.992653e+15  1.496068e+15   \n",
       "1      0.601302  119.245781  2.107659e+15  1.980064e+15  1.652226e+15   \n",
       "2      0.208961  126.373863  1.814137e+15  1.739587e+15  1.344639e+15   \n",
       "3      0.212769  188.812729  2.349731e+15  1.945845e+15  1.539410e+15   \n",
       "4      0.458008  147.349625  2.240655e+15  1.679705e+15  1.314239e+15   \n",
       "...         ...         ...           ...           ...           ...   \n",
       "40098  0.479437    9.510518  7.317734e+14  7.352522e+14  5.704476e+14   \n",
       "40099  0.599918   17.036392  5.234640e+14  4.248873e+14  3.092860e+14   \n",
       "40100  0.622782    8.831167  6.419276e+14  4.426898e+14  3.834843e+14   \n",
       "40101  0.535050   12.180819  3.163261e+14  3.317815e+14  2.491461e+14   \n",
       "40102  0.493505   17.996544  6.874861e+14  4.990003e+14  3.654998e+14   \n",
       "\n",
       "        SIGMA_of_R3   SIGMA_of_R4   SIGMA_of_R5   SIGMA_of_R6   SIGMA_of_R7  \n",
       "0      1.186635e+15  8.963382e+14  6.253857e+14  3.943133e+14  2.285814e+14  \n",
       "1      1.229586e+15  9.864418e+14  7.124628e+14  4.493736e+14  2.624644e+14  \n",
       "2      1.121889e+15  8.703220e+14  5.941933e+14  3.668202e+14  1.864975e+14  \n",
       "3      1.077038e+15  7.059310e+14  4.613497e+14  2.969404e+14  1.913648e+14  \n",
       "4      1.120241e+15  8.280310e+14  5.703857e+14  3.796933e+14  2.315893e+14  \n",
       "...             ...           ...           ...           ...           ...  \n",
       "40098  3.042415e+14  1.612240e+14  9.388085e+13  6.723513e+13  6.424537e+13  \n",
       "40099  2.059087e+14  1.372936e+14  8.645296e+13  4.359242e+13  2.579911e+13  \n",
       "40100  2.781025e+14  1.816492e+14  1.097785e+14  7.185037e+13  5.326193e+13  \n",
       "40101  1.719007e+14  1.450824e+14  1.283064e+14  8.723127e+13  5.760639e+13  \n",
       "40102  2.436358e+14  1.555047e+14  9.162575e+13  5.050677e+13  3.652560e+13  \n",
       "\n",
       "[40103 rows x 10 columns]"
      ]
     },
     "execution_count": 17,
     "metadata": {},
     "output_type": "execute_result"
    }
   ],
   "source": [
    "df = pd.concat([df1, df2], axis=1)\n",
    "df"
   ]
  },
  {
   "cell_type": "code",
   "execution_count": 21,
   "id": "caa5e06e",
   "metadata": {},
   "outputs": [
    {
     "ename": "AttributeError",
     "evalue": "'DataFrameGroupBy' object has no attribute 'groupby'",
     "output_type": "error",
     "traceback": [
      "\u001b[1;31m---------------------------------------------------------------------------\u001b[0m",
      "\u001b[1;31mAttributeError\u001b[0m                            Traceback (most recent call last)",
      "Cell \u001b[1;32mIn[21], line 15\u001b[0m\n\u001b[0;32m     12\u001b[0m     \u001b[38;5;28;01melse\u001b[39;00m: \u001b[38;5;28;01mreturn\u001b[39;00m \u001b[38;5;124m\"\u001b[39m\u001b[38;5;124minterval_0\u001b[39m\u001b[38;5;124m\"\u001b[39m\n\u001b[0;32m     14\u001b[0m gr \u001b[38;5;241m=\u001b[39m df\u001b[38;5;241m.\u001b[39mgroupby(\u001b[38;5;124m'\u001b[39m\u001b[38;5;124mLAMBDA_TR\u001b[39m\u001b[38;5;124m'\u001b[39m)\n\u001b[1;32m---> 15\u001b[0m gr\u001b[38;5;241m.\u001b[39mgroupby(LAMBDA_interval)\n",
      "File \u001b[1;32m~\\anaconda3\\Lib\\site-packages\\pandas\\core\\groupby\\groupby.py:952\u001b[0m, in \u001b[0;36mGroupBy.__getattr__\u001b[1;34m(self, attr)\u001b[0m\n\u001b[0;32m    949\u001b[0m \u001b[38;5;28;01mif\u001b[39;00m attr \u001b[38;5;129;01min\u001b[39;00m \u001b[38;5;28mself\u001b[39m\u001b[38;5;241m.\u001b[39mobj:\n\u001b[0;32m    950\u001b[0m     \u001b[38;5;28;01mreturn\u001b[39;00m \u001b[38;5;28mself\u001b[39m[attr]\n\u001b[1;32m--> 952\u001b[0m \u001b[38;5;28;01mraise\u001b[39;00m \u001b[38;5;167;01mAttributeError\u001b[39;00m(\n\u001b[0;32m    953\u001b[0m     \u001b[38;5;124mf\u001b[39m\u001b[38;5;124m\"\u001b[39m\u001b[38;5;124m'\u001b[39m\u001b[38;5;132;01m{\u001b[39;00m\u001b[38;5;28mtype\u001b[39m(\u001b[38;5;28mself\u001b[39m)\u001b[38;5;241m.\u001b[39m\u001b[38;5;18m__name__\u001b[39m\u001b[38;5;132;01m}\u001b[39;00m\u001b[38;5;124m'\u001b[39m\u001b[38;5;124m object has no attribute \u001b[39m\u001b[38;5;124m'\u001b[39m\u001b[38;5;132;01m{\u001b[39;00mattr\u001b[38;5;132;01m}\u001b[39;00m\u001b[38;5;124m'\u001b[39m\u001b[38;5;124m\"\u001b[39m\n\u001b[0;32m    954\u001b[0m )\n",
      "\u001b[1;31mAttributeError\u001b[0m: 'DataFrameGroupBy' object has no attribute 'groupby'"
     ]
    }
   ],
   "source": [
    "def LAMBDA_interval(L):\n",
    "    if (L >= 15 and L < 20):\n",
    "        return \"interval_1\"\n",
    "    elif (L >= 20 and L < 30):\n",
    "        return \"interval_2\"\n",
    "    elif (L >= 30 and L < 45):\n",
    "        return \"interval_3\"\n",
    "    elif (L >= 45 and L < 60):\n",
    "        return \"interval_4\"\n",
    "    elif (L >= 60 and L < 200):\n",
    "        return \"interval_5\"\n",
    "    else: return \"interval_0\"\n",
    "\n",
    "gr = df.groupby('LAMBDA_TR')\n",
    "gr.groupby(LAMBDA_interval)\n"
   ]
  },
  {
   "cell_type": "code",
   "execution_count": null,
   "id": "06b210f4",
   "metadata": {},
   "outputs": [],
   "source": []
  }
 ],
 "metadata": {
  "kernelspec": {
   "display_name": "Python 3 (ipykernel)",
   "language": "python",
   "name": "python3"
  },
  "language_info": {
   "codemirror_mode": {
    "name": "ipython",
    "version": 3
   },
   "file_extension": ".py",
   "mimetype": "text/x-python",
   "name": "python",
   "nbconvert_exporter": "python",
   "pygments_lexer": "ipython3",
   "version": "3.11.5"
  }
 },
 "nbformat": 4,
 "nbformat_minor": 5
}
