{
 "cells": [
  {
   "cell_type": "markdown",
   "id": "c30f7c2f",
   "metadata": {},
   "source": [
    "# Fit NFW Density Profile"
   ]
  },
  {
   "cell_type": "markdown",
   "id": "1e604c39",
   "metadata": {},
   "source": [
    "## Introduzione\n",
    "\n",
    "Gli aloni di materia oscura sono strutture gravitazionalmente legate che svolgono un ruolo chiave nella formazione delle strutture cosmiche, agendo da nuclei gravitazionali intorno ai quali si aggrega la materia ordinaria, come gas e stelle, formando galassie e ammassidi galassie. La caratterizzazione del profilo di densità degli aloni ha molteplici applicazioni in studi cosmologici come la stima della massa di un ammasso di galassie da misure di lensing gravitazionale o lo studio delle proprietà della materia oscura.\n",
    "\n",
    "Il profilo di densità proiettato degli aloni di materia oscura è adeguatamente descritto dal fit analitico (2D projected NFW profile):\n",
    "\n",
    "$$ \\Sigma(R, M, c, z) = 2 r_s \\rho_s f(x) $$\n",
    "\n",
    "dove $M$ è la massa dell'alone di materia oscura e $c$ la concentrazione; $r_s$ è il raggio caratteristico dell'ammasso ed è pari a:\n",
    "\n",
    "$$ r_s = \\frac{1}{c}\\left(M\\frac{3}{4 \\pi 200 \\rho_m (1+z)^3}\\right)^{\\frac{1}{3}} $$\n",
    "\n",
    "dove $\\rho_m$ è la densità media dell'universo approssimata a:\n",
    "\n",
    "$$ \\rho_m \\simeq 0.286 \\cdot 0.7^2 \\cdot 2.7751428946 \\cdot 10^{11} \\left[\\frac{\\text{M}_{\\odot}}{\\text{Mpc}^3}\\right]. $$\n",
    "\n",
    "$\\rho_s$ è la densità caratteristica dell'ammasso pari a:\n",
    "\n",
    "$$ \\begin{equation}\n",
    "    \\rho_s = \\rho_m (1+z)^3 \\delta_{char} \\\\\n",
    "    \\delta_{char} = \\frac{200 c^3}{3 f_c} \\\\\n",
    "    f_c = \\text{ln}(1+c) - \\frac{c}{1+c}.\n",
    "\\end{equation} $$\n",
    "\n",
    "Infine $x = \\frac{R}{r_s}$, con $R$ distanza dal centro dell'alone di materia oscura espressa in Mpc, e la funzione $f(x)$ è pari a:\n",
    "\n",
    "$$ f(x) = \\begin{cases}\n",
    "              \\frac{1}{x^2-1}\\left[1-\\frac{2}{\\sqrt{1-x^2}}\\text{arctanh}\\sqrt{\\frac{1-x}{1+x}}\\right] &\\quad \\text{if}\\space x<1 \\\\\n",
    "              \\frac{1}{3} &\\quad \\text{if}\\space x=1 \\\\\n",
    "              \\frac{1}{x^2-1}\\left[1-\\frac{2}{\\sqrt{x^2-1}}\\text{arctan}\\sqrt{\\frac{x-1}{x+1}}\\right] &\\quad \\text{if}\\space x>1\n",
    "          \\end{cases} $$"
   ]
  },
  {
   "cell_type": "markdown",
   "id": "1e3c4fd0",
   "metadata": {},
   "source": [
    "## Punto a)\n",
    "\n",
    "Implementare la funzione per calcolare $\\Sigma(R, M, c, z)$ e mostrare in un grafico composto da 9 pannelli i profili di densità nell'intervallo $R \\in [0.03, 1.0]$ Mpc, per le seguenti combinazioni di valori di massa e concentrazione:\n",
    "\n",
    "$$ \\begin{align}\n",
    "    M& = [10^{13.5},\\space 10^{14.0},\\space 10^{15.0}] \\space \\text{M}_{\\odot}; \\\\\n",
    "    c& = [2,\\space 5,\\space 10]; \\\\\n",
    "    z&= 0.0.\n",
    "\\end{align} $$\n",
    "\n",
    "(Suggerimento: usare scala logaritmica per migliorare la visualizzazione)."
   ]
  },
  {
   "cell_type": "markdown",
   "id": "3071bdd8",
   "metadata": {},
   "source": [
    "### Implementazione"
   ]
  },
  {
   "cell_type": "code",
   "execution_count": 1,
   "id": "92dd2dc6",
   "metadata": {},
   "outputs": [],
   "source": [
    "import numpy as np\n",
    "import time\n",
    "import matplotlib.pyplot as plt\n",
    "\n",
    "rho_m = 0.286 * 0.7**2 *2.7751428946e11"
   ]
  },
  {
   "cell_type": "markdown",
   "id": "70287f9c",
   "metadata": {},
   "source": [
    "Per svolgere questo punto ho deciso di computare una matrice $\\Sigma$ di shape (1000, 3, 3) con entrate:\n",
    "\n",
    "$$ \\Sigma_{ijk} = \\Sigma(R_i, M_j, c_k, z) $$\n",
    "\n",
    "dove $R$ è un numpyarray composto da 1000 valori compresi tra 0.03 Mpc e 1.0 Mpc equispaziati, mentre $M$ e $c$ sono a loro volta dei numpyarray contenenti i valori per i quali computare la funzione. Ho scelto questa metodologia di implementazione perché in questo modo sarà molto semplice e intuitivo graficare i risultati come richiesto."
   ]
  },
  {
   "cell_type": "code",
   "execution_count": 2,
   "id": "a858d315",
   "metadata": {},
   "outputs": [],
   "source": [
    "M = np.array([10**13.5, 10**14.0, 10**15.0])\n",
    "c = np.array([2, 5, 10])\n",
    "z = 0.\n",
    "R = np.linspace(0.03,1.0,1000)"
   ]
  },
  {
   "cell_type": "markdown",
   "id": "647ece2d",
   "metadata": {},
   "source": [
    "Procedo computando, in ordine, $r_s$, $\\rho_s$, $f(x)$ e in conclusione la matrice $\\Sigma$. Per $r_s$ in particolare utilizzo il prodotto esterno implementando il metodo [np.outer](https://numpy.org/doc/stable/reference/generated/numpy.outer.html) di numpy:"
   ]
  },
  {
   "cell_type": "code",
   "execution_count": 3,
   "id": "41bbf10f",
   "metadata": {},
   "outputs": [],
   "source": [
    "r_s = np.outer(np.cbrt(3 * M / (4 * np.pi * 200 * rho_m * (1+z)**3)), 1/c)"
   ]
  },
  {
   "cell_type": "code",
   "execution_count": 4,
   "id": "76f2b538",
   "metadata": {},
   "outputs": [],
   "source": [
    "f_c = np.log(1 + c) - c / (1 + c)\n",
    "delta_char = 200 * c**3 / (3 * f_c)\n",
    "rho_s = rho_m * (1+z)**3 * delta_char"
   ]
  },
  {
   "cell_type": "markdown",
   "id": "0d26e42b",
   "metadata": {},
   "source": [
    "Per $f(x)$ è opportuno calcolare prima $x$. In questo caso utilizzo il metodo [np.multiply.outer](https://numpy.org/doc/stable/reference/generated/numpy.ufunc.outer.html#numpy.ufunc.outer), una generalizzazione di np.outer ad array con più di una dimensione:"
   ]
  },
  {
   "cell_type": "code",
   "execution_count": 5,
   "id": "95ddc8b9",
   "metadata": {},
   "outputs": [],
   "source": [
    "x = np.multiply.outer(R, 1/r_s)"
   ]
  },
  {
   "cell_type": "markdown",
   "id": "7d189f56",
   "metadata": {},
   "source": [
    "In una prima fase, per calcolare $f(x)$ avevo utilizzato una elif ladder e una matrice della stessa shape di $x$ composta interamente di 1 così da poter utilizzare [np.less](https://numpy.org/doc/stable/reference/generated/numpy.less.html) ed [np.greater](https://numpy.org/doc/stable/reference/generated/numpy.greater.html) per controllare la condizione desiderata elemento per elemento e inserire l'opportuno valore della funzione in ciascuna entrata. Questo metodo è però poco efficiente perché richiede di calcolare 9000 volte la funzione nel contesto di 3 cicli for innestati. Una soluzione migliore è invece osservare che le funzioni che definiscono f negli intervalli $x<1$ e $x>1$ hanno domini disgiunti e utilizzare questo fatto per migliorare l'efficienza del calcolo:"
   ]
  },
  {
   "cell_type": "code",
   "execution_count": 6,
   "id": "b8098f6c",
   "metadata": {},
   "outputs": [],
   "source": [
    "s1 = time.time()\n",
    "\n",
    "ones = np.ones((1000, 3, 3))\n",
    "\n",
    "f = np.empty((1000, 3, 3))\n",
    "for i in range(1000):\n",
    "    for j in range(3):\n",
    "        for k in range(3):\n",
    "            if np.less(x, ones)[i, j, k]:\n",
    "                f[i, j, k] = (1 - (2 * np.arctanh(np.sqrt((1-x[i, j, k])/(1+x[i, j, k]))) / np.sqrt(1 - x[i, j, k]**2))) / (x[i, j, k]**2 - 1)\n",
    "            elif np.greater(x, ones)[i, j, k]:\n",
    "                f[i, j, k] = (1 - (2 * np.arctan(np.sqrt((x[i, j, k]-1)/(1+x[i, j, k]))) / np.sqrt(x[i, j, k]**2 - 1))) / (x[i, j, k]**2 - 1)\n",
    "            else: \n",
    "                f[i, j, k] = 1./3\n",
    "\n",
    "e1 = time.time()"
   ]
  },
  {
   "cell_type": "code",
   "execution_count": 7,
   "id": "dee0005f",
   "metadata": {},
   "outputs": [
    {
     "name": "stderr",
     "output_type": "stream",
     "text": [
      "C:\\Users\\Ghigu\\AppData\\Local\\Temp\\ipykernel_15960\\1047644650.py:3: RuntimeWarning: invalid value encountered in sqrt\n",
      "  f1 = (1 - (2 * np.arctanh(np.sqrt((1 - x) / (1 + x))) / np.sqrt(1 - x**2))) / (x**2 - 1)\n",
      "C:\\Users\\Ghigu\\AppData\\Local\\Temp\\ipykernel_15960\\1047644650.py:4: RuntimeWarning: invalid value encountered in sqrt\n",
      "  f2 = (1 - (2 * np.arctan(np.sqrt((x - 1) / (1 + x))) / np.sqrt(x**2 - 1))) / (x**2 - 1)\n"
     ]
    }
   ],
   "source": [
    "s2 = time.time()\n",
    "\n",
    "f1 = (1 - (2 * np.arctanh(np.sqrt((1 - x) / (1 + x))) / np.sqrt(1 - x**2))) / (x**2 - 1)\n",
    "f2 = (1 - (2 * np.arctan(np.sqrt((x - 1) / (1 + x))) / np.sqrt(x**2 - 1))) / (x**2 - 1)\n",
    "f1[np.isnan(f1)] = 0\n",
    "f2[np.isnan(f2)] = 0\n",
    "f = f1 + f2\n",
    "f = np.where(f == 0., 1./3, f)\n",
    "\n",
    "e2 = time.time()"
   ]
  },
  {
   "cell_type": "markdown",
   "id": "156d4000",
   "metadata": {},
   "source": [
    "Si può verificare la maggiore efficienza della seconda metodologia confrontando i tempi di esecuzione:"
   ]
  },
  {
   "cell_type": "code",
   "execution_count": 8,
   "id": "dd29b82a",
   "metadata": {},
   "outputs": [
    {
     "name": "stdout",
     "output_type": "stream",
     "text": [
      "Tempo metodo 1 = 0.09096002578735352 s\n",
      "Tempo metodo 2 = 0.0026993751525878906 s\n"
     ]
    }
   ],
   "source": [
    "print('Tempo metodo 1 =', e1-s1, 's')\n",
    "print('Tempo metodo 2 =', e2-s2, 's')"
   ]
  },
  {
   "cell_type": "markdown",
   "id": "ee698897",
   "metadata": {},
   "source": [
    "In conclusione, calcolo $\\Sigma$:"
   ]
  },
  {
   "cell_type": "code",
   "execution_count": 9,
   "id": "5d56ab0a",
   "metadata": {},
   "outputs": [],
   "source": [
    "Sigma = 2* rho_s * r_s * f"
   ]
  },
  {
   "cell_type": "markdown",
   "id": "4f0b7621",
   "metadata": {},
   "source": [
    "Come anticipato, questo approccio al problema permette di graficare i risultati ottenuti in modo semplice, iterando il comando di plot variando gli indici corrispondenti ai differenti valori di $M$ e $c$. Per rendere la rappresentazione più significativa ho inoltre fissato i valori minimi e massimi sulle ordinate per tutti e 9 i pannelli e ho impostato la scala logaritmica su entrambi gli assi per migliorare la visualizzazione, come suggerito."
   ]
  },
  {
   "cell_type": "code",
   "execution_count": 10,
   "id": "a61a1aed",
   "metadata": {},
   "outputs": [
    {
     "data": {
      "image/png": "[encoded data removed]",
      "text/plain": [
       "<Figure size 1500x1500 with 9 Axes>"
      ]
     },
     "metadata": {},
     "output_type": "display_data"
    }
   ],
   "source": [
    "fig, axs = plt.subplots(3, 3, layout = 'constrained')\n",
    "fig.set_size_inches(15, 15)\n",
    "\n",
    "for j in range(3):\n",
    "    for k in range(3):\n",
    "        axs[j, k].plot(R, Sigma[:, j, k])\n",
    "        axs[j, k].set_title('M = %.1e, c = %.1f, z= 0.0' %(M[j], c[k]))\n",
    "        axs[j, k].set(xlabel = 'R [Mpc]', ylabel = r'$\\Sigma(R, M, c, z)$ [M$_{\\odot}$ / Mpc$^2$]',\n",
    "                      xscale = 'log', yscale = 'log', ylim = [2e12, 3e15])"
   ]
  },
  {
   "cell_type": "markdown",
   "id": "0f5ccccc",
   "metadata": {},
   "source": [
    "Dai grafici si nota come all'aumentare di $M$ e $c$ la funzione si alzi mentre al diminuire di $M$ e all'aumentare di $c$ essa diventi meno ripida."
   ]
  },
  {
   "cell_type": "markdown",
   "id": "287aa62e",
   "metadata": {},
   "source": [
    "## Punto b)\n",
    "\n",
    "Il file `halo_catalog.fits` contiene i profili di densità di 40103 aloni di materia oscura estratti da una simulazione cosmologica N-body, il loro redshift e la ricchezza, una somma pesata del numero di galassie che popolano l'alone e che funge da proxy per la massa. I nomi delle colonne contenenti i dati sono rispettivamente: \n",
    "* redshift = 'Z',\n",
    "* ricchezza = 'LAMBDA_TR',\n",
    "* profilo di densità = 'SIGMA_of_R' $\\left[\\frac{\\text{M}_{\\odot}}{\\text{Mpc}^2}\\right]$.\n",
    "\n",
    "I valori di $R$ in [Mpc] a cui sono calcolati i profili di densità si trovano nel file `R_values.npy`."
   ]
  },
  {
   "cell_type": "markdown",
   "id": "9ff8913b",
   "metadata": {},
   "source": [
    "### Punto b1)\n",
    "\n",
    "Suddividere il catalogo nei 5 intervalli di ricchezza aventi come estremi $\\lambda = [15, 20, 30, 45, 60, 200]$ e calcolare il redshift, profilo di densità medio e la sua deviazione standard in funzione di $R$ per ognuno di questi e mostrare i risultati in un grafico con 5 pannelli."
   ]
  },
  {
   "cell_type": "markdown",
   "id": "fdb48de8",
   "metadata": {},
   "source": [
    "#### Implementazione"
   ]
  },
  {
   "cell_type": "code",
   "execution_count": 11,
   "id": "5dd454aa",
   "metadata": {},
   "outputs": [],
   "source": [
    "from astropy.io import fits\n",
    "import pandas as pd"
   ]
  },
  {
   "cell_type": "markdown",
   "id": "fc0cae8c",
   "metadata": {},
   "source": [
    "Per maneggiare il file `.fits` ho fatto riferimento alla [guida di astropy](https://docs.astropy.org/en/stable/io/fits/index.html). In primo luogo apro il file e ricerco informazioni sulla Header Data Unit List (HDUL):"
   ]
  },
  {
   "cell_type": "code",
   "execution_count": 12,
   "id": "52a4fb48",
   "metadata": {},
   "outputs": [
    {
     "name": "stdout",
     "output_type": "stream",
     "text": [
      "Filename: halo_catalog.fits\n",
      "No.    Name      Ver    Type      Cards   Dimensions   Format\n",
      "  0  PRIMARY       1 PrimaryHDU       4   ()      \n",
      "  1                1 BinTableHDU     14   40103R x 3C   [E, E, 8E]   \n"
     ]
    }
   ],
   "source": [
    "hdul = fits.open('halo_catalog.fits')\n",
    "hdul.info()"
   ]
  },
  {
   "cell_type": "markdown",
   "id": "1e66a7c4",
   "metadata": {},
   "source": [
    "Trovo che ci sono 2 HDU: Primary e una tabella. Ne deduco che i dati si trovino nell' HDU 1, procedo quindi a salvarli e a chiudere il file."
   ]
  },
  {
   "cell_type": "code",
   "execution_count": 13,
   "id": "48962fcb",
   "metadata": {
    "scrolled": false
   },
   "outputs": [],
   "source": [
    "data = hdul[1].data\n",
    "hdul.close()"
   ]
  },
  {
   "cell_type": "markdown",
   "id": "0079d861",
   "metadata": {},
   "source": [
    "La variabile data così ottenuta ha per colonne dei numpyarray. Questo mi ha permesso di rappresentare i dati in un DataFrame, scelta fatta in modo da poterli manipolare con facilità, soprattutto nell'ottica di raggrupparli per intervalli di ricchezza. Per farlo ho inizialmente creato un DataFrame che contenesse solo le entrate della colonna 'SIGMA_R', questo perché nel file `halo_catalog.fits` tale colonna contiene in realtà un numpyarray a 2 dimensioni e per poter convertire la tabella in Pandas avevo bisogno di \"spacchettare\" quella colonna in più colonne."
   ]
  },
  {
   "cell_type": "code",
   "execution_count": 14,
   "id": "adae50d7",
   "metadata": {},
   "outputs": [],
   "source": [
    "SigR = data['SIGMA_of_R'].newbyteorder().byteswap()\n",
    "df1 = pd.DataFrame(SigR, columns = ['SIGMA_of_R0', 'SIGMA_of_R1', 'SIGMA_of_R2', 'SIGMA_of_R3', 'SIGMA_of_R4', \n",
    "                                    'SIGMA_of_R5', 'SIGMA_of_R6', 'SIGMA_of_R7'])"
   ]
  },
  {
   "cell_type": "markdown",
   "id": "49074abb",
   "metadata": {},
   "source": [
    "Come si può vedere, oltre a quanto anticipato, ho applicato il metodo [numpy.newbyteorder().byteswap()](https://numpy.org/doc/stable/reference/generated/numpy.ndarray.byteswap.html). In una prima versione del codice non ero stato così accorto e più avanti nell'implementazione (in particolare nell'atto di effettuare il groupby per intervalli di ricchezza), sono incorso nell'errore:\n",
    "\n",
    "\"Big-endian buffer not supported on little-endian compiler\"\n",
    "\n",
    "Questo perché Pandas funziona correttamente solo se i dati salvati nel DataFrame o nella Serie in oggetto sono in native byte order, cioè little-endian (quantomeno nel caso di sistemi Linux o Windows). Al contrario nei file `.fits` i dati immagazzinati sono big-endian e questo causa un problema di compatibilità che necessita di essere risolto [invertendo l'endianess dei dati in input](https://pandas.pydata.org/pandas-docs/stable/user_guide/gotchas.html#byte-ordering-issues).\n",
    "\n",
    "Dopo questo accorgimento, sono passato a creare un secondo DataFrame, contenente questa volta i dati relativi alle prime due colonne della tabella e dunque le ho concatenate per creare il DataFrame bersaglio."
   ]
  },
  {
   "cell_type": "code",
   "execution_count": 15,
   "id": "fb86ee61",
   "metadata": {},
   "outputs": [
    {
     "data": {
      "text/html": [
       "<div>\n",
       "<style scoped>\n",
       "    .dataframe tbody tr th:only-of-type {\n",
       "        vertical-align: middle;\n",
       "    }\n",
       "\n",
       "    .dataframe tbody tr th {\n",
       "        vertical-align: top;\n",
       "    }\n",
       "\n",
       "    .dataframe thead th {\n",
       "        text-align: right;\n",
       "    }\n",
       "</style>\n",
       "<table border=\"1\" class=\"dataframe\">\n",
       "  <thead>\n",
       "    <tr style=\"text-align: right;\">\n",
       "      <th></th>\n",
       "      <th>Z</th>\n",
       "      <th>LAMBDA_TR</th>\n",
       "      <th>SIGMA_of_R0</th>\n",
       "      <th>SIGMA_of_R1</th>\n",
       "      <th>SIGMA_of_R2</th>\n",
       "      <th>SIGMA_of_R3</th>\n",
       "      <th>SIGMA_of_R4</th>\n",
       "      <th>SIGMA_of_R5</th>\n",
       "      <th>SIGMA_of_R6</th>\n",
       "      <th>SIGMA_of_R7</th>\n",
       "    </tr>\n",
       "  </thead>\n",
       "  <tbody>\n",
       "    <tr>\n",
       "      <th>0</th>\n",
       "      <td>0.502494</td>\n",
       "      <td>290.692261</td>\n",
       "      <td>2.351102e+15</td>\n",
       "      <td>1.992653e+15</td>\n",
       "      <td>1.496068e+15</td>\n",
       "      <td>1.186635e+15</td>\n",
       "      <td>8.963382e+14</td>\n",
       "      <td>6.253857e+14</td>\n",
       "      <td>3.943133e+14</td>\n",
       "      <td>2.285814e+14</td>\n",
       "    </tr>\n",
       "    <tr>\n",
       "      <th>1</th>\n",
       "      <td>0.601302</td>\n",
       "      <td>119.245781</td>\n",
       "      <td>2.107659e+15</td>\n",
       "      <td>1.980064e+15</td>\n",
       "      <td>1.652226e+15</td>\n",
       "      <td>1.229586e+15</td>\n",
       "      <td>9.864418e+14</td>\n",
       "      <td>7.124628e+14</td>\n",
       "      <td>4.493736e+14</td>\n",
       "      <td>2.624644e+14</td>\n",
       "    </tr>\n",
       "    <tr>\n",
       "      <th>2</th>\n",
       "      <td>0.208961</td>\n",
       "      <td>126.373863</td>\n",
       "      <td>1.814137e+15</td>\n",
       "      <td>1.739587e+15</td>\n",
       "      <td>1.344639e+15</td>\n",
       "      <td>1.121889e+15</td>\n",
       "      <td>8.703220e+14</td>\n",
       "      <td>5.941933e+14</td>\n",
       "      <td>3.668202e+14</td>\n",
       "      <td>1.864975e+14</td>\n",
       "    </tr>\n",
       "    <tr>\n",
       "      <th>3</th>\n",
       "      <td>0.212769</td>\n",
       "      <td>188.812729</td>\n",
       "      <td>2.349731e+15</td>\n",
       "      <td>1.945845e+15</td>\n",
       "      <td>1.539410e+15</td>\n",
       "      <td>1.077038e+15</td>\n",
       "      <td>7.059310e+14</td>\n",
       "      <td>4.613497e+14</td>\n",
       "      <td>2.969404e+14</td>\n",
       "      <td>1.913648e+14</td>\n",
       "    </tr>\n",
       "    <tr>\n",
       "      <th>4</th>\n",
       "      <td>0.458008</td>\n",
       "      <td>147.349625</td>\n",
       "      <td>2.240655e+15</td>\n",
       "      <td>1.679705e+15</td>\n",
       "      <td>1.314239e+15</td>\n",
       "      <td>1.120241e+15</td>\n",
       "      <td>8.280310e+14</td>\n",
       "      <td>5.703857e+14</td>\n",
       "      <td>3.796933e+14</td>\n",
       "      <td>2.315893e+14</td>\n",
       "    </tr>\n",
       "    <tr>\n",
       "      <th>...</th>\n",
       "      <td>...</td>\n",
       "      <td>...</td>\n",
       "      <td>...</td>\n",
       "      <td>...</td>\n",
       "      <td>...</td>\n",
       "      <td>...</td>\n",
       "      <td>...</td>\n",
       "      <td>...</td>\n",
       "      <td>...</td>\n",
       "      <td>...</td>\n",
       "    </tr>\n",
       "    <tr>\n",
       "      <th>40098</th>\n",
       "      <td>0.479437</td>\n",
       "      <td>9.510518</td>\n",
       "      <td>7.317734e+14</td>\n",
       "      <td>7.352522e+14</td>\n",
       "      <td>5.704476e+14</td>\n",
       "      <td>3.042415e+14</td>\n",
       "      <td>1.612240e+14</td>\n",
       "      <td>9.388085e+13</td>\n",
       "      <td>6.723513e+13</td>\n",
       "      <td>6.424537e+13</td>\n",
       "    </tr>\n",
       "    <tr>\n",
       "      <th>40099</th>\n",
       "      <td>0.599918</td>\n",
       "      <td>17.036392</td>\n",
       "      <td>5.234640e+14</td>\n",
       "      <td>4.248873e+14</td>\n",
       "      <td>3.092860e+14</td>\n",
       "      <td>2.059087e+14</td>\n",
       "      <td>1.372936e+14</td>\n",
       "      <td>8.645296e+13</td>\n",
       "      <td>4.359242e+13</td>\n",
       "      <td>2.579911e+13</td>\n",
       "    </tr>\n",
       "    <tr>\n",
       "      <th>40100</th>\n",
       "      <td>0.622782</td>\n",
       "      <td>8.831167</td>\n",
       "      <td>6.419276e+14</td>\n",
       "      <td>4.426898e+14</td>\n",
       "      <td>3.834843e+14</td>\n",
       "      <td>2.781025e+14</td>\n",
       "      <td>1.816492e+14</td>\n",
       "      <td>1.097785e+14</td>\n",
       "      <td>7.185037e+13</td>\n",
       "      <td>5.326193e+13</td>\n",
       "    </tr>\n",
       "    <tr>\n",
       "      <th>40101</th>\n",
       "      <td>0.535050</td>\n",
       "      <td>12.180819</td>\n",
       "      <td>3.163261e+14</td>\n",
       "      <td>3.317815e+14</td>\n",
       "      <td>2.491461e+14</td>\n",
       "      <td>1.719007e+14</td>\n",
       "      <td>1.450824e+14</td>\n",
       "      <td>1.283064e+14</td>\n",
       "      <td>8.723127e+13</td>\n",
       "      <td>5.760639e+13</td>\n",
       "    </tr>\n",
       "    <tr>\n",
       "      <th>40102</th>\n",
       "      <td>0.493505</td>\n",
       "      <td>17.996544</td>\n",
       "      <td>6.874861e+14</td>\n",
       "      <td>4.990003e+14</td>\n",
       "      <td>3.654998e+14</td>\n",
       "      <td>2.436358e+14</td>\n",
       "      <td>1.555047e+14</td>\n",
       "      <td>9.162575e+13</td>\n",
       "      <td>5.050677e+13</td>\n",
       "      <td>3.652560e+13</td>\n",
       "    </tr>\n",
       "  </tbody>\n",
       "</table>\n",
       "<p>40103 rows × 10 columns</p>\n",
       "</div>"
      ],
      "text/plain": [
       "              Z   LAMBDA_TR   SIGMA_of_R0   SIGMA_of_R1   SIGMA_of_R2  \\\n",
       "0      0.502494  290.692261  2.351102e+15  1.992653e+15  1.496068e+15   \n",
       "1      0.601302  119.245781  2.107659e+15  1.980064e+15  1.652226e+15   \n",
       "2      0.208961  126.373863  1.814137e+15  1.739587e+15  1.344639e+15   \n",
       "3      0.212769  188.812729  2.349731e+15  1.945845e+15  1.539410e+15   \n",
       "4      0.458008  147.349625  2.240655e+15  1.679705e+15  1.314239e+15   \n",
       "...         ...         ...           ...           ...           ...   \n",
       "40098  0.479437    9.510518  7.317734e+14  7.352522e+14  5.704476e+14   \n",
       "40099  0.599918   17.036392  5.234640e+14  4.248873e+14  3.092860e+14   \n",
       "40100  0.622782    8.831167  6.419276e+14  4.426898e+14  3.834843e+14   \n",
       "40101  0.535050   12.180819  3.163261e+14  3.317815e+14  2.491461e+14   \n",
       "40102  0.493505   17.996544  6.874861e+14  4.990003e+14  3.654998e+14   \n",
       "\n",
       "        SIGMA_of_R3   SIGMA_of_R4   SIGMA_of_R5   SIGMA_of_R6   SIGMA_of_R7  \n",
       "0      1.186635e+15  8.963382e+14  6.253857e+14  3.943133e+14  2.285814e+14  \n",
       "1      1.229586e+15  9.864418e+14  7.124628e+14  4.493736e+14  2.624644e+14  \n",
       "2      1.121889e+15  8.703220e+14  5.941933e+14  3.668202e+14  1.864975e+14  \n",
       "3      1.077038e+15  7.059310e+14  4.613497e+14  2.969404e+14  1.913648e+14  \n",
       "4      1.120241e+15  8.280310e+14  5.703857e+14  3.796933e+14  2.315893e+14  \n",
       "...             ...           ...           ...           ...           ...  \n",
       "40098  3.042415e+14  1.612240e+14  9.388085e+13  6.723513e+13  6.424537e+13  \n",
       "40099  2.059087e+14  1.372936e+14  8.645296e+13  4.359242e+13  2.579911e+13  \n",
       "40100  2.781025e+14  1.816492e+14  1.097785e+14  7.185037e+13  5.326193e+13  \n",
       "40101  1.719007e+14  1.450824e+14  1.283064e+14  8.723127e+13  5.760639e+13  \n",
       "40102  2.436358e+14  1.555047e+14  9.162575e+13  5.050677e+13  3.652560e+13  \n",
       "\n",
       "[40103 rows x 10 columns]"
      ]
     },
     "execution_count": 15,
     "metadata": {},
     "output_type": "execute_result"
    }
   ],
   "source": [
    "data_dict = {'Z': data['Z'].newbyteorder().byteswap(), 'LAMBDA_TR': data['LAMBDA_TR'].newbyteorder().byteswap()}\n",
    "df2 = pd.DataFrame(data_dict)\n",
    "df = pd.concat([df2, df1], axis = 1)\n",
    "df"
   ]
  },
  {
   "cell_type": "markdown",
   "id": "02821909",
   "metadata": {},
   "source": [
    "DA FINIRE"
   ]
  },
  {
   "cell_type": "code",
   "execution_count": 16,
   "id": "caa5e06e",
   "metadata": {},
   "outputs": [
    {
     "data": {
      "text/html": [
       "<div>\n",
       "<style scoped>\n",
       "    .dataframe tbody tr th:only-of-type {\n",
       "        vertical-align: middle;\n",
       "    }\n",
       "\n",
       "    .dataframe tbody tr th {\n",
       "        vertical-align: top;\n",
       "    }\n",
       "\n",
       "    .dataframe thead th {\n",
       "        text-align: right;\n",
       "    }\n",
       "</style>\n",
       "<table border=\"1\" class=\"dataframe\">\n",
       "  <thead>\n",
       "    <tr style=\"text-align: right;\">\n",
       "      <th></th>\n",
       "      <th>Z</th>\n",
       "      <th>LAMBDA_TR</th>\n",
       "      <th>SIGMA_of_R0</th>\n",
       "      <th>SIGMA_of_R1</th>\n",
       "      <th>SIGMA_of_R2</th>\n",
       "      <th>SIGMA_of_R3</th>\n",
       "      <th>SIGMA_of_R4</th>\n",
       "      <th>SIGMA_of_R5</th>\n",
       "      <th>SIGMA_of_R6</th>\n",
       "      <th>SIGMA_of_R7</th>\n",
       "    </tr>\n",
       "    <tr>\n",
       "      <th>LAMBDA_TR</th>\n",
       "      <th></th>\n",
       "      <th></th>\n",
       "      <th></th>\n",
       "      <th></th>\n",
       "      <th></th>\n",
       "      <th></th>\n",
       "      <th></th>\n",
       "      <th></th>\n",
       "      <th></th>\n",
       "      <th></th>\n",
       "    </tr>\n",
       "  </thead>\n",
       "  <tbody>\n",
       "    <tr>\n",
       "      <th>(15, 20]</th>\n",
       "      <td>0.460090</td>\n",
       "      <td>17.523481</td>\n",
       "      <td>6.040370e+14</td>\n",
       "      <td>4.900458e+14</td>\n",
       "      <td>3.598957e+14</td>\n",
       "      <td>2.441868e+14</td>\n",
       "      <td>1.573150e+14</td>\n",
       "      <td>9.940772e+13</td>\n",
       "      <td>6.326566e+13</td>\n",
       "      <td>4.258762e+13</td>\n",
       "    </tr>\n",
       "    <tr>\n",
       "      <th>(20, 30]</th>\n",
       "      <td>0.463887</td>\n",
       "      <td>24.182133</td>\n",
       "      <td>6.717476e+14</td>\n",
       "      <td>5.498711e+14</td>\n",
       "      <td>4.078379e+14</td>\n",
       "      <td>2.780886e+14</td>\n",
       "      <td>1.798401e+14</td>\n",
       "      <td>1.131488e+14</td>\n",
       "      <td>7.073311e+13</td>\n",
       "      <td>4.623129e+13</td>\n",
       "    </tr>\n",
       "    <tr>\n",
       "      <th>(30, 45]</th>\n",
       "      <td>0.459208</td>\n",
       "      <td>35.880253</td>\n",
       "      <td>8.322382e+14</td>\n",
       "      <td>6.875067e+14</td>\n",
       "      <td>5.164361e+14</td>\n",
       "      <td>3.578354e+14</td>\n",
       "      <td>2.345928e+14</td>\n",
       "      <td>1.480616e+14</td>\n",
       "      <td>9.084872e+13</td>\n",
       "      <td>5.603594e+13</td>\n",
       "    </tr>\n",
       "    <tr>\n",
       "      <th>(45, 60]</th>\n",
       "      <td>0.456439</td>\n",
       "      <td>51.205067</td>\n",
       "      <td>1.017487e+15</td>\n",
       "      <td>8.481862e+14</td>\n",
       "      <td>6.493962e+14</td>\n",
       "      <td>4.575311e+14</td>\n",
       "      <td>3.030807e+14</td>\n",
       "      <td>1.918116e+14</td>\n",
       "      <td>1.166462e+14</td>\n",
       "      <td>6.985587e+13</td>\n",
       "    </tr>\n",
       "    <tr>\n",
       "      <th>(60, 200]</th>\n",
       "      <td>0.441161</td>\n",
       "      <td>78.995392</td>\n",
       "      <td>1.299284e+15</td>\n",
       "      <td>1.092726e+15</td>\n",
       "      <td>8.503404e+14</td>\n",
       "      <td>6.101899e+14</td>\n",
       "      <td>4.143562e+14</td>\n",
       "      <td>2.673323e+14</td>\n",
       "      <td>1.639046e+14</td>\n",
       "      <td>9.581197e+13</td>\n",
       "    </tr>\n",
       "  </tbody>\n",
       "</table>\n",
       "</div>"
      ],
      "text/plain": [
       "                  Z  LAMBDA_TR   SIGMA_of_R0   SIGMA_of_R1   SIGMA_of_R2  \\\n",
       "LAMBDA_TR                                                                  \n",
       "(15, 20]   0.460090  17.523481  6.040370e+14  4.900458e+14  3.598957e+14   \n",
       "(20, 30]   0.463887  24.182133  6.717476e+14  5.498711e+14  4.078379e+14   \n",
       "(30, 45]   0.459208  35.880253  8.322382e+14  6.875067e+14  5.164361e+14   \n",
       "(45, 60]   0.456439  51.205067  1.017487e+15  8.481862e+14  6.493962e+14   \n",
       "(60, 200]  0.441161  78.995392  1.299284e+15  1.092726e+15  8.503404e+14   \n",
       "\n",
       "            SIGMA_of_R3   SIGMA_of_R4   SIGMA_of_R5   SIGMA_of_R6  \\\n",
       "LAMBDA_TR                                                           \n",
       "(15, 20]   2.441868e+14  1.573150e+14  9.940772e+13  6.326566e+13   \n",
       "(20, 30]   2.780886e+14  1.798401e+14  1.131488e+14  7.073311e+13   \n",
       "(30, 45]   3.578354e+14  2.345928e+14  1.480616e+14  9.084872e+13   \n",
       "(45, 60]   4.575311e+14  3.030807e+14  1.918116e+14  1.166462e+14   \n",
       "(60, 200]  6.101899e+14  4.143562e+14  2.673323e+14  1.639046e+14   \n",
       "\n",
       "            SIGMA_of_R7  \n",
       "LAMBDA_TR                \n",
       "(15, 20]   4.258762e+13  \n",
       "(20, 30]   4.623129e+13  \n",
       "(30, 45]   5.603594e+13  \n",
       "(45, 60]   6.985587e+13  \n",
       "(60, 200]  9.581197e+13  "
      ]
     },
     "execution_count": 16,
     "metadata": {},
     "output_type": "execute_result"
    }
   ],
   "source": [
    "int_mean = df.groupby(pd.cut(df['LAMBDA_TR'], [15, 20, 30, 45, 60, 200])).mean()\n",
    "int_mean"
   ]
  },
  {
   "cell_type": "code",
   "execution_count": 17,
   "id": "0cda0b74",
   "metadata": {},
   "outputs": [
    {
     "ename": "KeyError",
     "evalue": "\"None of [Index([                0.03,  0.03097097097097097,  0.03194194194194194,\\n       0.032912912912912914, 0.033883883883883886,  0.03485485485485485,\\n        0.03582582582582582, 0.036796796796796795],\\n      dtype='float64')] are in the [columns]\"",
     "output_type": "error",
     "traceback": [
      "\u001b[1;31m---------------------------------------------------------------------------\u001b[0m",
      "\u001b[1;31mKeyError\u001b[0m                                  Traceback (most recent call last)",
      "Cell \u001b[1;32mIn[17], line 2\u001b[0m\n\u001b[0;32m      1\u001b[0m \u001b[38;5;66;03m#R_int_mean = int_mean.loc[:, ['SIGMA_of_R0', 'SIGMA_of_R1', 'SIGMA_of_R2', 'SIGMA_of_R3', 'SIGMA_of_R4', 'SIGMA_of_R5', 'SIGMA_of_R6', 'SIGMA_of_R7']]\u001b[39;00m\n\u001b[1;32m----> 2\u001b[0m R_int_mean \u001b[38;5;241m=\u001b[39m int_mean\u001b[38;5;241m.\u001b[39mloc[:, [R[\u001b[38;5;241m0\u001b[39m], R[\u001b[38;5;241m1\u001b[39m], R[\u001b[38;5;241m2\u001b[39m], R[\u001b[38;5;241m3\u001b[39m], R[\u001b[38;5;241m4\u001b[39m], R[\u001b[38;5;241m5\u001b[39m], R[\u001b[38;5;241m6\u001b[39m], R[\u001b[38;5;241m7\u001b[39m]]]\n\u001b[0;32m      3\u001b[0m R_int_mean\n",
      "File \u001b[1;32m~\\anaconda3\\Lib\\site-packages\\pandas\\core\\indexing.py:1097\u001b[0m, in \u001b[0;36m_LocationIndexer.__getitem__\u001b[1;34m(self, key)\u001b[0m\n\u001b[0;32m   1095\u001b[0m     \u001b[38;5;28;01mif\u001b[39;00m \u001b[38;5;28mself\u001b[39m\u001b[38;5;241m.\u001b[39m_is_scalar_access(key):\n\u001b[0;32m   1096\u001b[0m         \u001b[38;5;28;01mreturn\u001b[39;00m \u001b[38;5;28mself\u001b[39m\u001b[38;5;241m.\u001b[39mobj\u001b[38;5;241m.\u001b[39m_get_value(\u001b[38;5;241m*\u001b[39mkey, takeable\u001b[38;5;241m=\u001b[39m\u001b[38;5;28mself\u001b[39m\u001b[38;5;241m.\u001b[39m_takeable)\n\u001b[1;32m-> 1097\u001b[0m     \u001b[38;5;28;01mreturn\u001b[39;00m \u001b[38;5;28mself\u001b[39m\u001b[38;5;241m.\u001b[39m_getitem_tuple(key)\n\u001b[0;32m   1098\u001b[0m \u001b[38;5;28;01melse\u001b[39;00m:\n\u001b[0;32m   1099\u001b[0m     \u001b[38;5;66;03m# we by definition only have the 0th axis\u001b[39;00m\n\u001b[0;32m   1100\u001b[0m     axis \u001b[38;5;241m=\u001b[39m \u001b[38;5;28mself\u001b[39m\u001b[38;5;241m.\u001b[39maxis \u001b[38;5;129;01mor\u001b[39;00m \u001b[38;5;241m0\u001b[39m\n",
      "File \u001b[1;32m~\\anaconda3\\Lib\\site-packages\\pandas\\core\\indexing.py:1289\u001b[0m, in \u001b[0;36m_LocIndexer._getitem_tuple\u001b[1;34m(self, tup)\u001b[0m\n\u001b[0;32m   1286\u001b[0m \u001b[38;5;28;01mif\u001b[39;00m \u001b[38;5;28mself\u001b[39m\u001b[38;5;241m.\u001b[39m_multi_take_opportunity(tup):\n\u001b[0;32m   1287\u001b[0m     \u001b[38;5;28;01mreturn\u001b[39;00m \u001b[38;5;28mself\u001b[39m\u001b[38;5;241m.\u001b[39m_multi_take(tup)\n\u001b[1;32m-> 1289\u001b[0m \u001b[38;5;28;01mreturn\u001b[39;00m \u001b[38;5;28mself\u001b[39m\u001b[38;5;241m.\u001b[39m_getitem_tuple_same_dim(tup)\n",
      "File \u001b[1;32m~\\anaconda3\\Lib\\site-packages\\pandas\\core\\indexing.py:955\u001b[0m, in \u001b[0;36m_LocationIndexer._getitem_tuple_same_dim\u001b[1;34m(self, tup)\u001b[0m\n\u001b[0;32m    952\u001b[0m \u001b[38;5;28;01mif\u001b[39;00m com\u001b[38;5;241m.\u001b[39mis_null_slice(key):\n\u001b[0;32m    953\u001b[0m     \u001b[38;5;28;01mcontinue\u001b[39;00m\n\u001b[1;32m--> 955\u001b[0m retval \u001b[38;5;241m=\u001b[39m \u001b[38;5;28mgetattr\u001b[39m(retval, \u001b[38;5;28mself\u001b[39m\u001b[38;5;241m.\u001b[39mname)\u001b[38;5;241m.\u001b[39m_getitem_axis(key, axis\u001b[38;5;241m=\u001b[39mi)\n\u001b[0;32m    956\u001b[0m \u001b[38;5;66;03m# We should never have retval.ndim < self.ndim, as that should\u001b[39;00m\n\u001b[0;32m    957\u001b[0m \u001b[38;5;66;03m#  be handled by the _getitem_lowerdim call above.\u001b[39;00m\n\u001b[0;32m    958\u001b[0m \u001b[38;5;28;01massert\u001b[39;00m retval\u001b[38;5;241m.\u001b[39mndim \u001b[38;5;241m==\u001b[39m \u001b[38;5;28mself\u001b[39m\u001b[38;5;241m.\u001b[39mndim\n",
      "File \u001b[1;32m~\\anaconda3\\Lib\\site-packages\\pandas\\core\\indexing.py:1332\u001b[0m, in \u001b[0;36m_LocIndexer._getitem_axis\u001b[1;34m(self, key, axis)\u001b[0m\n\u001b[0;32m   1329\u001b[0m     \u001b[38;5;28;01mif\u001b[39;00m \u001b[38;5;28mhasattr\u001b[39m(key, \u001b[38;5;124m\"\u001b[39m\u001b[38;5;124mndim\u001b[39m\u001b[38;5;124m\"\u001b[39m) \u001b[38;5;129;01mand\u001b[39;00m key\u001b[38;5;241m.\u001b[39mndim \u001b[38;5;241m>\u001b[39m \u001b[38;5;241m1\u001b[39m:\n\u001b[0;32m   1330\u001b[0m         \u001b[38;5;28;01mraise\u001b[39;00m \u001b[38;5;167;01mValueError\u001b[39;00m(\u001b[38;5;124m\"\u001b[39m\u001b[38;5;124mCannot index with multidimensional key\u001b[39m\u001b[38;5;124m\"\u001b[39m)\n\u001b[1;32m-> 1332\u001b[0m     \u001b[38;5;28;01mreturn\u001b[39;00m \u001b[38;5;28mself\u001b[39m\u001b[38;5;241m.\u001b[39m_getitem_iterable(key, axis\u001b[38;5;241m=\u001b[39maxis)\n\u001b[0;32m   1334\u001b[0m \u001b[38;5;66;03m# nested tuple slicing\u001b[39;00m\n\u001b[0;32m   1335\u001b[0m \u001b[38;5;28;01mif\u001b[39;00m is_nested_tuple(key, labels):\n",
      "File \u001b[1;32m~\\anaconda3\\Lib\\site-packages\\pandas\\core\\indexing.py:1272\u001b[0m, in \u001b[0;36m_LocIndexer._getitem_iterable\u001b[1;34m(self, key, axis)\u001b[0m\n\u001b[0;32m   1269\u001b[0m \u001b[38;5;28mself\u001b[39m\u001b[38;5;241m.\u001b[39m_validate_key(key, axis)\n\u001b[0;32m   1271\u001b[0m \u001b[38;5;66;03m# A collection of keys\u001b[39;00m\n\u001b[1;32m-> 1272\u001b[0m keyarr, indexer \u001b[38;5;241m=\u001b[39m \u001b[38;5;28mself\u001b[39m\u001b[38;5;241m.\u001b[39m_get_listlike_indexer(key, axis)\n\u001b[0;32m   1273\u001b[0m \u001b[38;5;28;01mreturn\u001b[39;00m \u001b[38;5;28mself\u001b[39m\u001b[38;5;241m.\u001b[39mobj\u001b[38;5;241m.\u001b[39m_reindex_with_indexers(\n\u001b[0;32m   1274\u001b[0m     {axis: [keyarr, indexer]}, copy\u001b[38;5;241m=\u001b[39m\u001b[38;5;28;01mTrue\u001b[39;00m, allow_dups\u001b[38;5;241m=\u001b[39m\u001b[38;5;28;01mTrue\u001b[39;00m\n\u001b[0;32m   1275\u001b[0m )\n",
      "File \u001b[1;32m~\\anaconda3\\Lib\\site-packages\\pandas\\core\\indexing.py:1462\u001b[0m, in \u001b[0;36m_LocIndexer._get_listlike_indexer\u001b[1;34m(self, key, axis)\u001b[0m\n\u001b[0;32m   1459\u001b[0m ax \u001b[38;5;241m=\u001b[39m \u001b[38;5;28mself\u001b[39m\u001b[38;5;241m.\u001b[39mobj\u001b[38;5;241m.\u001b[39m_get_axis(axis)\n\u001b[0;32m   1460\u001b[0m axis_name \u001b[38;5;241m=\u001b[39m \u001b[38;5;28mself\u001b[39m\u001b[38;5;241m.\u001b[39mobj\u001b[38;5;241m.\u001b[39m_get_axis_name(axis)\n\u001b[1;32m-> 1462\u001b[0m keyarr, indexer \u001b[38;5;241m=\u001b[39m ax\u001b[38;5;241m.\u001b[39m_get_indexer_strict(key, axis_name)\n\u001b[0;32m   1464\u001b[0m \u001b[38;5;28;01mreturn\u001b[39;00m keyarr, indexer\n",
      "File \u001b[1;32m~\\anaconda3\\Lib\\site-packages\\pandas\\core\\indexes\\base.py:5877\u001b[0m, in \u001b[0;36mIndex._get_indexer_strict\u001b[1;34m(self, key, axis_name)\u001b[0m\n\u001b[0;32m   5874\u001b[0m \u001b[38;5;28;01melse\u001b[39;00m:\n\u001b[0;32m   5875\u001b[0m     keyarr, indexer, new_indexer \u001b[38;5;241m=\u001b[39m \u001b[38;5;28mself\u001b[39m\u001b[38;5;241m.\u001b[39m_reindex_non_unique(keyarr)\n\u001b[1;32m-> 5877\u001b[0m \u001b[38;5;28mself\u001b[39m\u001b[38;5;241m.\u001b[39m_raise_if_missing(keyarr, indexer, axis_name)\n\u001b[0;32m   5879\u001b[0m keyarr \u001b[38;5;241m=\u001b[39m \u001b[38;5;28mself\u001b[39m\u001b[38;5;241m.\u001b[39mtake(indexer)\n\u001b[0;32m   5880\u001b[0m \u001b[38;5;28;01mif\u001b[39;00m \u001b[38;5;28misinstance\u001b[39m(key, Index):\n\u001b[0;32m   5881\u001b[0m     \u001b[38;5;66;03m# GH 42790 - Preserve name from an Index\u001b[39;00m\n",
      "File \u001b[1;32m~\\anaconda3\\Lib\\site-packages\\pandas\\core\\indexes\\base.py:5938\u001b[0m, in \u001b[0;36mIndex._raise_if_missing\u001b[1;34m(self, key, indexer, axis_name)\u001b[0m\n\u001b[0;32m   5936\u001b[0m     \u001b[38;5;28;01mif\u001b[39;00m use_interval_msg:\n\u001b[0;32m   5937\u001b[0m         key \u001b[38;5;241m=\u001b[39m \u001b[38;5;28mlist\u001b[39m(key)\n\u001b[1;32m-> 5938\u001b[0m     \u001b[38;5;28;01mraise\u001b[39;00m \u001b[38;5;167;01mKeyError\u001b[39;00m(\u001b[38;5;124mf\u001b[39m\u001b[38;5;124m\"\u001b[39m\u001b[38;5;124mNone of [\u001b[39m\u001b[38;5;132;01m{\u001b[39;00mkey\u001b[38;5;132;01m}\u001b[39;00m\u001b[38;5;124m] are in the [\u001b[39m\u001b[38;5;132;01m{\u001b[39;00maxis_name\u001b[38;5;132;01m}\u001b[39;00m\u001b[38;5;124m]\u001b[39m\u001b[38;5;124m\"\u001b[39m)\n\u001b[0;32m   5940\u001b[0m not_found \u001b[38;5;241m=\u001b[39m \u001b[38;5;28mlist\u001b[39m(ensure_index(key)[missing_mask\u001b[38;5;241m.\u001b[39mnonzero()[\u001b[38;5;241m0\u001b[39m]]\u001b[38;5;241m.\u001b[39munique())\n\u001b[0;32m   5941\u001b[0m \u001b[38;5;28;01mraise\u001b[39;00m \u001b[38;5;167;01mKeyError\u001b[39;00m(\u001b[38;5;124mf\u001b[39m\u001b[38;5;124m\"\u001b[39m\u001b[38;5;132;01m{\u001b[39;00mnot_found\u001b[38;5;132;01m}\u001b[39;00m\u001b[38;5;124m not in index\u001b[39m\u001b[38;5;124m\"\u001b[39m)\n",
      "\u001b[1;31mKeyError\u001b[0m: \"None of [Index([                0.03,  0.03097097097097097,  0.03194194194194194,\\n       0.032912912912912914, 0.033883883883883886,  0.03485485485485485,\\n        0.03582582582582582, 0.036796796796796795],\\n      dtype='float64')] are in the [columns]\""
     ]
    }
   ],
   "source": [
    "#R_int_mean = int_mean.loc[:, ['SIGMA_of_R0', 'SIGMA_of_R1', 'SIGMA_of_R2', 'SIGMA_of_R3', 'SIGMA_of_R4', 'SIGMA_of_R5', 'SIGMA_of_R6', 'SIGMA_of_R7']]\n",
    "R_int_mean = int_mean.loc[:, [R[0], R[1], R[2], R[3], R[4], R[5], R[6], R[7]]]\n",
    "R_int_mean"
   ]
  },
  {
   "cell_type": "code",
   "execution_count": null,
   "id": "6c71170c",
   "metadata": {},
   "outputs": [],
   "source": [
    "np.shape(R_int_mean.T.to_numpy())"
   ]
  },
  {
   "cell_type": "code",
   "execution_count": null,
   "id": "b51654e6",
   "metadata": {},
   "outputs": [],
   "source": [
    "int_std = df.groupby(pd.cut(df['LAMBDA_TR'], [15, 20, 30, 45, 60, 200])).std()\n",
    "int_std"
   ]
  },
  {
   "cell_type": "code",
   "execution_count": null,
   "id": "0fb61110",
   "metadata": {},
   "outputs": [],
   "source": [
    "#R_int_std = int_std.loc[:, ['SIGMA_of_R0', 'SIGMA_of_R1', 'SIGMA_of_R2', 'SIGMA_of_R3', 'SIGMA_of_R4', 'SIGMA_of_R5', 'SIGMA_of_R6', 'SIGMA_of_R7']]\n",
    "R_int_std = int_std.loc[:, [R[0], R[1], R[2], R[3], R[4], R[5], R[6], R[7]]]\n",
    "R_int_std\n"
   ]
  },
  {
   "cell_type": "code",
   "execution_count": null,
   "id": "6be34283",
   "metadata": {},
   "outputs": [],
   "source": [
    "R = np.load('R_values.npy')\n",
    "\n",
    "fig, axs = plt.subplots(5, layout = 'constrained')\n",
    "fig.set_size_inches(15, 15)\n",
    "\n",
    "axs[0].plot(R, R_int_mean.T.to_numpy()[:,0], label = 'Mean')\n",
    "axs[0].set_title('LAMBDA_TR in (15,20]')\n",
    "axs[0].plot(R, R_int_std.T.to_numpy()[:,0], color = 'tab:orange', label = 'Std')\n",
    "axs[0].legend(fontsize = 'x-large')\n",
    "axs[1].plot(R, R_int_mean.T.to_numpy()[:,1], label = 'Mean')\n",
    "axs[1].set_title('LAMBDA_TR in (20,30]')\n",
    "axs[1].plot(R, R_int_std.T.to_numpy()[:,1], color = 'tab:orange', label = 'Std')\n",
    "axs[2].plot(R, R_int_mean.T.to_numpy()[:,2], label = 'Mean')\n",
    "axs[2].set_title('LAMBDA_TR in (30,45]')\n",
    "axs[2].plot(R, R_int_std.T.to_numpy()[:,2], color = 'tab:orange', label = 'Std')\n",
    "axs[3].plot(R, R_int_mean.T.to_numpy()[:,3], label = 'Mean')\n",
    "axs[3].set_title('LAMBDA_TR in (45,60]')\n",
    "axs[3].plot(R, R_int_std.T.to_numpy()[:,3], color = 'tab:orange', label = 'Std')\n",
    "axs[4].plot(R, R_int_mean.T.to_numpy()[:,4], label = 'Mean')\n",
    "axs[4].set_title('LAMBDA_TR in (60,200]')\n",
    "axs[4].plot(R, R_int_std.T.to_numpy()[:,4], color = 'tab:orange', label = 'Std')\n",
    "\n",
    "for ax in axs.flat:\n",
    "    ax.set(xlabel = 'R [Mpc]', ylabel = 'Sigma (R, M, c, z) [M_sol / Mpc**2]', xscale = 'log', yscale = 'log', ylim = [1e13, 2e15])\n",
    "    ax.legend(fontsize = 'x-large')"
   ]
  },
  {
   "cell_type": "markdown",
   "id": "b6728099",
   "metadata": {},
   "source": [
    "Per prima cosa riporto i comandi che ho utilizzato per installare [emcee](https://emcee.readthedocs.io/en/stable/user/install/) e [pygtc](https://pygtc.readthedocs.io/en/latest/installation.html)."
   ]
  },
  {
   "cell_type": "code",
   "execution_count": null,
   "id": "5c33c128",
   "metadata": {},
   "outputs": [],
   "source": [
    "#!python -m pip install -U pip\n",
    "#!pip install -U setuptools setuptools_scm pep517\n",
    "#!pip install -U emcee\n",
    "#!pip install pygtc"
   ]
  },
  {
   "cell_type": "code",
   "execution_count": null,
   "id": "9e30885e",
   "metadata": {},
   "outputs": [],
   "source": [
    "import emcee\n",
    "from scipy.optimize import minimize\n",
    "import pygtc"
   ]
  },
  {
   "cell_type": "markdown",
   "id": "88c68f6e",
   "metadata": {},
   "source": [
    "I parametri che devo inferire sono Log(M) e c.\n",
    "Devo assumere una likelihood gaussiana, con matrici di covarianza date da Sigma-cov.npy.\n",
    "Devo utilizzare la Sigma.\n",
    "I prior sono Log(M) tra 13 e 16, c tra 0.2 e 20.\n",
    "Lo devo fare per ogni bin di ricchezza e devo utilizzare il relativo redshift medio."
   ]
  },
  {
   "cell_type": "code",
   "execution_count": null,
   "id": "6cc5d0b6",
   "metadata": {},
   "outputs": [],
   "source": [
    "CovMat = np.load('covariance_matrices.npy')\n",
    "rho_m = 0.286 * 0.7**2 *2.7751428946e11\n",
    "\n",
    "R = np.load('R_values.npy')\n",
    "Sigma_R = R_int_mean.to_numpy()\n",
    "z_int_mean = int_mean.loc[:, ['Z']]\n",
    "z = np.squeeze(z_int_mean.to_numpy())\n",
    "Sigma_R[0], z[0].shape"
   ]
  },
  {
   "cell_type": "markdown",
   "id": "59930bb5",
   "metadata": {},
   "source": [
    "Nota: Ho dovuto usare np.squeeze perché il redshift veniva passato come array (5,1) invece che come array (5,), questo dava problemi con il minimize dato che tutte le funzioni che ricevevano z[i] come input non restituivano un float come output, ma un array (1,) con cui minimize non sapeva lavorare."
   ]
  },
  {
   "cell_type": "code",
   "execution_count": null,
   "id": "19749130",
   "metadata": {},
   "outputs": [],
   "source": [
    "def r_s(lM, c, rdsft_i):\n",
    "    return np.cbrt(3 * 10**lM / (4 * np.pi * 200 * rho_m * (1 + rdsft_i)**3)) / c\n",
    "\n",
    "def rho_s(c, rdsft_i):\n",
    "    f_c = np.log(1 + c) - c / (1 + c)\n",
    "    delta_char = 200 * c**3 / (3 * f_c)\n",
    "    return rho_m * (1 + rdsft_i)**3 * delta_char\n",
    "    \n",
    "def f(x):\n",
    "    f = np.empty(8)\n",
    "    for j in range(8):\n",
    "        if np.less(x, np.ones(8))[j]:\n",
    "            f[j] = (1 - (2 * np.arctanh(np.sqrt((1-x[j])/(1+x[j]))) / np.sqrt(1 - x[j]**2))) / (x[j]**2 - 1)\n",
    "        elif np.greater(x, np.ones(8))[j]:\n",
    "            f[j] = (1 - (2 * np.arctan(np.sqrt((x[j]-1)/(1+x[j]))) / np.sqrt(x[j]**2 - 1))) / (x[j]**2 - 1)\n",
    "        else: \n",
    "            f[j] = 1./3\n",
    "    return f\n",
    "\n",
    "def Sigma(Rad, lM, c, rdsft_i):\n",
    "    x = Rad / r_s(lM, c, rdsft_i)\n",
    "    return 2 * r_s(lM, c, rdsft_i) * rho_s(c, rdsft_i) * f(x)"
   ]
  },
  {
   "cell_type": "code",
   "execution_count": null,
   "id": "abe7ac7d",
   "metadata": {},
   "outputs": [],
   "source": [
    "def log_prior(param):\n",
    "    lM, c = param\n",
    "    if (13 < lM < 16 and 0.2 < c < 20):\n",
    "        return 0.0\n",
    "    return -np.inf\n",
    "\n",
    "def log_likelihood(param, Denprof, Rad, rdsft, TCOV):\n",
    "    lM, c = param\n",
    "    \n",
    "    th_Sigma = Sigma(Rad, lM, c, rdsft)\n",
    "    \n",
    "    iTCOV = np.linalg.inv(TCOV)\n",
    "    \n",
    "    residuals = (Denprof - th_Sigma).T\n",
    "    \n",
    "    p, _ = TCOV.shape\n",
    "    lognormalization = - 0.5 * (p * np.log(2 * np.pi) + np.log(np.linalg.det(TCOV)))\n",
    "    exponent = -0.5 * np.sum(residuals @ iTCOV * residuals)\n",
    "    return np.nansum(lognormalization + exponent)\n",
    "\n",
    "def log_posterior(param, Denprof, Rad, rdsft, TCOV):\n",
    "    lp = -log_prior(param)\n",
    "    if not np.isfinite(lp):\n",
    "        return -np.inf\n",
    "    return lp + log_likelihood(param, Denprof, Rad, rdsft, TCOV)"
   ]
  },
  {
   "cell_type": "code",
   "execution_count": null,
   "id": "270650b3",
   "metadata": {},
   "outputs": [],
   "source": [
    "lM = 14.53\n",
    "c = 10.09\n",
    "\n",
    "param = [lM, c]\n",
    "lint, _, _ = CovMat.shape\n",
    "for k in range(lint):\n",
    "    print(log_likelihood(param, Sigma_R[k], R, z[k], CovMat[k]))"
   ]
  },
  {
   "cell_type": "code",
   "execution_count": null,
   "id": "cf35d146",
   "metadata": {},
   "outputs": [],
   "source": [
    "nll = lambda *args: -log_posterior(*args)\n",
    "initial = np.array([13 + 3 * np.random.rand(), 0.2 + 19.8 * np.random.rand()]) \n",
    "soln0 = minimize(nll, initial, args = (Sigma_R[0], R, z[0], CovMat[0]))\n",
    "soln = [soln0, soln0, soln0, soln0, soln0]\n",
    "print(initial, soln0.x, log_likelihood(soln0.x, Sigma_R[0], R, z[0], CovMat[0]))\n",
    "for k in range(lint - 1):\n",
    "    soln[k + 1] = minimize(nll, initial, args = (Sigma_R[k + 1], R, z[k + 1], CovMat[k + 1]))\n",
    "    print(initial, soln[k + 1].x, log_likelihood(soln[k + 1].x, Sigma_R[k + 1], R, z[k + 1], CovMat[k + 1]))"
   ]
  },
  {
   "cell_type": "code",
   "execution_count": null,
   "id": "a313830f",
   "metadata": {},
   "outputs": [],
   "source": [
    "residui = (Sigma_R[0] - Sigma(R, soln0.x[0], soln0.x[1], z[0])).T\n",
    "np.sum(residui @ np.linalg.inv(CovMat[0]) * residui)\n",
    "#np.nansum(-0.5 * np.sum(residui @ np.linalg.inv(CovMat[0]) * residui) + (- 0.5 * (8 * np.log(2 * np.pi) + np.log(np.linalg.det(CovMat[0])))))"
   ]
  },
  {
   "cell_type": "code",
   "execution_count": null,
   "id": "06dd2827",
   "metadata": {
    "scrolled": true
   },
   "outputs": [],
   "source": [
    "nparams = len(param)\n",
    "\n",
    "pos = soln[0].x * (1+1e-4 * np.random.randn(32,nparams ))\n",
    "nwalkers, ndim = pos.shape\n",
    "\n",
    "sampler = emcee.EnsembleSampler(\n",
    "    nwalkers, ndim, log_posterior, args = (Sigma_R[0], R, z[0], CovMat[0])\n",
    ")\n",
    "sampler.run_mcmc(pos, 2000, progress=True);"
   ]
  },
  {
   "cell_type": "code",
   "execution_count": null,
   "id": "282ff712",
   "metadata": {},
   "outputs": [],
   "source": [
    "fig, axes = plt.subplots(2, figsize=(10, 7), sharex=True)\n",
    "samples = sampler.get_chain()\n",
    "for i in range(ndim):\n",
    "    ax = axes[i]\n",
    "    ax.plot(samples[:, :, i], \"k\", alpha=0.3)\n",
    "    ax.set_xlim(0, len(samples))\n",
    "    ax.yaxis.set_label_coords(-0.1, 0.5)\n",
    "\n",
    "axes[-1].set_xlabel(\"step number\");"
   ]
  },
  {
   "cell_type": "code",
   "execution_count": null,
   "id": "c3fe8aad",
   "metadata": {},
   "outputs": [],
   "source": [
    "print(sampler.get_autocorr_time())"
   ]
  },
  {
   "cell_type": "code",
   "execution_count": null,
   "id": "ef2c681f",
   "metadata": {},
   "outputs": [],
   "source": [
    "flat_samples = sampler.get_chain(discard = 100, flat = True)\n",
    "flat_samples.shape"
   ]
  },
  {
   "cell_type": "code",
   "execution_count": null,
   "id": "579d30fe",
   "metadata": {},
   "outputs": [],
   "source": [
    "bf_lM = np.median(flat_samples[:, 0])\n",
    "bf_c = np.median(flat_samples[:, 1])\n",
    "\n",
    "print('Best-fit log_10(M) =', bf_lM)\n",
    "print('Best-fit c =', bf_c)\n",
    "print('Mean log_10(M) =', flat_samples[:,0].mean())\n",
    "print('Mean c =', flat_samples[:,1].mean())\n",
    "print('std log_10(M) =', flat_samples[:,0].std())\n",
    "print('std c =', flat_samples[:,1].std())"
   ]
  },
  {
   "cell_type": "code",
   "execution_count": null,
   "id": "9660e7c4",
   "metadata": {},
   "outputs": [],
   "source": [
    "bf_param = [bf_lM, bf_c]\n",
    "log_likelihood(bf_param, Sigma_R[0], R, z[0], CovMat[0])"
   ]
  },
  {
   "cell_type": "code",
   "execution_count": null,
   "id": "b00294f0",
   "metadata": {},
   "outputs": [],
   "source": [
    "x_i = Sigma_R[0]\n",
    "mu_i = Sigma(R, bf_lM, bf_c, z[0])\n",
    "#mu_i = Sigma(R, soln0.x[0], soln0.x[1], z[0])\n",
    "var_i = np.empty(8)\n",
    "\n",
    "for i in range(8):\n",
    "    var_i[i] = CovMat[0, i, i]\n",
    "\n",
    "t = np.sum((x_i - mu_i)**2 / var_i)\n",
    "t"
   ]
  },
  {
   "cell_type": "code",
   "execution_count": null,
   "id": "762d313b",
   "metadata": {
    "scrolled": false
   },
   "outputs": [],
   "source": [
    "from scipy.stats import chi2\n",
    "\n",
    "rdn_values = np.empty([100, 2])\n",
    "for i in range(2):\n",
    "    for j in range(100):\n",
    "        rdn_values[j, i] = flat_samples[np.random.randint(0, flat_samples.shape[0]), i]\n",
    "\n",
    "t_rdn = np.empty(100)        \n",
    "\n",
    "for j in range(100):\n",
    "    mu_i = Sigma(R, rdn_values[j, 0], rdn_values[j, 1], z[0])\n",
    "    t_rdn[j] = np.sum((x_i - mu_i)**2 / var_i)\n",
    "    \n",
    "print(t_rdn)\n",
    "\n",
    "fig, ax = plt.subplots(1, layout = 'constrained')\n",
    "fig.set_size_inches(5,5)\n",
    "\n",
    "ax.hist(t_rdn, bins = 'sturges', density = 'True')"
   ]
  },
  {
   "cell_type": "code",
   "execution_count": null,
   "id": "806000ae",
   "metadata": {},
   "outputs": [],
   "source": [
    "fig, axs = plt.subplots(5, layout = 'constrained')\n",
    "fig.set_size_inches(15, 15)\n",
    "\n",
    "axs[0].scatter(R, R_int_mean.T.to_numpy()[:,0], label = 'Mean')\n",
    "axs[0].set_title('LAMBDA_TR in (15,20]')\n",
    "axs[0].plot(R, Sigma(R, rdn_values[99, 0], rdn_values[99, 1], z[0]), color = 'tab:orange', label = 'fit')\n",
    "axs[0].errorbar(R, R_int_mean.T.to_numpy()[:,0], np.sqrt(var_i), fmt='none')\n",
    "axs[0].legend(fontsize = 'x-large')\n",
    "\n",
    "for ax in axs.flat:\n",
    "    ax.set(xlabel = 'R [Mpc]', ylabel = 'Sigma (R, M, c, z) [M_sol / Mpc**2]', xscale = 'log', yscale = 'log', ylim = [1e13, 2e15])\n",
    "    ax.legend(fontsize = 'x-large')"
   ]
  },
  {
   "cell_type": "code",
   "execution_count": null,
   "id": "ad47df20",
   "metadata": {},
   "outputs": [],
   "source": [
    "GTC = pygtc.plotGTC(chains=flat_samples,\n",
    "                    paramNames=['$log_{10}(M)$','$c$'],\n",
    "                    figureSize='MNRAS_page')"
   ]
  },
  {
   "cell_type": "markdown",
   "id": "6a5c08fa",
   "metadata": {},
   "source": [
    "Voglio che bf_Sigma sia una matrice in cui nelle righe vario il valore di z e nelle colonne quello di R. (Matrice 40103x8)"
   ]
  },
  {
   "cell_type": "code",
   "execution_count": null,
   "id": "7d8a5bc5",
   "metadata": {},
   "outputs": [],
   "source": [
    "df_15 = df[15 < df['LAMBDA_TR']]\n",
    "df_1520 = df_15[20 >= df_15['LAMBDA_TR']]\n",
    "\n",
    "df_20 = df[20 < df['LAMBDA_TR']]\n",
    "df_2030 = df_15[30 >= df_15['LAMBDA_TR']]\n",
    "\n",
    "df_30 = df[30 < df['LAMBDA_TR']]\n",
    "df_3045 = df_15[45 >= df_15['LAMBDA_TR']]\n",
    "\n",
    "df_45 = df[45 < df['LAMBDA_TR']]\n",
    "df_4560 = df_15[60 >= df_15['LAMBDA_TR']]\n",
    "\n",
    "df_60 = df[60 < df['LAMBDA_TR']]\n",
    "df_60200 = df_15[200 >= df_15['LAMBDA_TR']]\n",
    "\n",
    "df_1520"
   ]
  },
  {
   "cell_type": "code",
   "execution_count": null,
   "id": "e2570ef3",
   "metadata": {},
   "outputs": [],
   "source": [
    "rho_m = 0.286 * 0.7**2 *2.7751428946e11\n",
    "z_data_1520 = df_1520['Z'].to_numpy()\n",
    "z_data_1520.shape"
   ]
  },
  {
   "cell_type": "code",
   "execution_count": null,
   "id": "033e24a3",
   "metadata": {},
   "outputs": [],
   "source": [
    "def Sigma_1(Rad, lM, conc, rdsft):\n",
    "    M = 10**lM\n",
    "    \n",
    "    r_s = np.cbrt(3 * M / (4 * np.pi * 200 * rho_m * (1 + rdsft)**3)) / conc\n",
    "    \n",
    "    f_c = np.log(1 + conc) - conc / (1 + conc)\n",
    "    delta_char = 200 * conc**3 / (3 * f_c)\n",
    "    rho_s = rho_m * (1 + rdsft)**3 * delta_char\n",
    "    \n",
    "    x = np.multiply.outer(1/r_s, Rad)\n",
    "\n",
    "    f1 = (1 - (2 * np.arctanh(np.sqrt((1 - x) / (1 + x))) / np.sqrt(1 - x**2))) / (x**2 - 1)\n",
    "    f2 = (1 - (2 * np.arctan(np.sqrt((x - 1) / (1 + x))) / np.sqrt(x**2 - 1))) / (x**2 - 1)\n",
    "    f1[np.isnan(f1)] = 0\n",
    "    f2[np.isnan(f2)] = 0\n",
    "    f = f1 + f2\n",
    "    f = np.where(f == 0., 1./3, f)\n",
    "    \n",
    "    Sigma = np.empty([rdsft.shape[0], 8])\n",
    "    for i in range(8):\n",
    "        Sigma[:, i] = 2* rho_s * r_s * f[:,0]\n",
    "        \n",
    "    return Sigma\n",
    "\n",
    "Sigma_1(R, bf_lM, bf_c, z_data_1520).shape"
   ]
  },
  {
   "cell_type": "code",
   "execution_count": null,
   "id": "bd10940f",
   "metadata": {},
   "outputs": [],
   "source": [
    "nparams = len(param)\n",
    "\n",
    "pos = soln[1].x * (1+1e-4 * np.random.randn(32,nparams ))\n",
    "nwalkers, ndim = pos.shape\n",
    "\n",
    "sampler = emcee.EnsembleSampler(\n",
    "    nwalkers, ndim, log_posterior, args = (Sigma_R[1], R, z[1], CovMat[1])\n",
    ")\n",
    "sampler.run_mcmc(pos, 2000, progress=True);"
   ]
  },
  {
   "cell_type": "code",
   "execution_count": null,
   "id": "efdd4aff",
   "metadata": {},
   "outputs": [],
   "source": [
    "fig, axes = plt.subplots(2, figsize=(10, 7), sharex=True)\n",
    "samples = sampler.get_chain()\n",
    "for i in range(ndim):\n",
    "    ax = axes[i]\n",
    "    ax.plot(samples[:, :, i], \"k\", alpha=0.3)\n",
    "    ax.set_xlim(0, len(samples))\n",
    "    ax.yaxis.set_label_coords(-0.1, 0.5)\n",
    "\n",
    "axes[-1].set_xlabel(\"step number\");"
   ]
  },
  {
   "cell_type": "code",
   "execution_count": null,
   "id": "b6c61f18",
   "metadata": {},
   "outputs": [],
   "source": [
    "nparams = len(param)\n",
    "\n",
    "pos = soln[2].x * (1+1e-4 * np.random.randn(32,nparams ))\n",
    "nwalkers, ndim = pos.shape\n",
    "\n",
    "sampler = emcee.EnsembleSampler(\n",
    "    nwalkers, ndim, log_posterior, args = (Sigma_R[2], R, z[2], CovMat[2])\n",
    ")\n",
    "sampler.run_mcmc(pos, 2000, progress=True);"
   ]
  },
  {
   "cell_type": "code",
   "execution_count": null,
   "id": "8379afd0",
   "metadata": {},
   "outputs": [],
   "source": [
    "fig, axes = plt.subplots(2, figsize=(10, 7), sharex=True)\n",
    "samples = sampler.get_chain()\n",
    "for i in range(ndim):\n",
    "    ax = axes[i]\n",
    "    ax.plot(samples[:, :, i], \"k\", alpha=0.3)\n",
    "    ax.set_xlim(0, len(samples))\n",
    "    ax.yaxis.set_label_coords(-0.1, 0.5)\n",
    "\n",
    "axes[-1].set_xlabel(\"step number\");"
   ]
  },
  {
   "cell_type": "code",
   "execution_count": null,
   "id": "01d47ec6",
   "metadata": {},
   "outputs": [],
   "source": [
    "nparams = len(param)\n",
    "\n",
    "pos = soln[3].x * (1+1e-4 * np.random.randn(32,nparams ))\n",
    "nwalkers, ndim = pos.shape\n",
    "\n",
    "sampler = emcee.EnsembleSampler(\n",
    "    nwalkers, ndim, log_posterior, args = (Sigma_R[3], R, z[3], CovMat[3])\n",
    ")\n",
    "sampler.run_mcmc(pos, 2000, progress=True);"
   ]
  },
  {
   "cell_type": "code",
   "execution_count": null,
   "id": "1b016264",
   "metadata": {},
   "outputs": [],
   "source": [
    "fig, axes = plt.subplots(2, figsize=(10, 7), sharex=True)\n",
    "samples = sampler.get_chain()\n",
    "for i in range(ndim):\n",
    "    ax = axes[i]\n",
    "    ax.plot(samples[:, :, i], \"k\", alpha=0.3)\n",
    "    ax.set_xlim(0, len(samples))\n",
    "    ax.yaxis.set_label_coords(-0.1, 0.5)\n",
    "\n",
    "axes[-1].set_xlabel(\"step number\");"
   ]
  },
  {
   "cell_type": "code",
   "execution_count": null,
   "id": "d8630330",
   "metadata": {},
   "outputs": [],
   "source": [
    "nparams = len(param)\n",
    "\n",
    "pos = soln[4].x * (1+1e-4 * np.random.randn(32,nparams ))\n",
    "nwalkers, ndim = pos.shape\n",
    "\n",
    "sampler = emcee.EnsembleSampler(\n",
    "    nwalkers, ndim, log_posterior, args = (Sigma_R[4], R, z[4], CovMat[4])\n",
    ")\n",
    "sampler.run_mcmc(pos, 2000, progress=True);"
   ]
  },
  {
   "cell_type": "code",
   "execution_count": null,
   "id": "980f1c62",
   "metadata": {},
   "outputs": [],
   "source": [
    "fig, axes = plt.subplots(2, figsize=(10, 7), sharex=True)\n",
    "samples = sampler.get_chain()\n",
    "for i in range(ndim):\n",
    "    ax = axes[i]\n",
    "    ax.plot(samples[:, :, i], \"k\", alpha=0.3)\n",
    "    ax.set_xlim(0, len(samples))\n",
    "    ax.yaxis.set_label_coords(-0.1, 0.5)\n",
    "\n",
    "axes[-1].set_xlabel(\"step number\");"
   ]
  },
  {
   "cell_type": "code",
   "execution_count": null,
   "id": "757824be",
   "metadata": {},
   "outputs": [],
   "source": []
  }
 ],
 "metadata": {
  "kernelspec": {
   "display_name": "Python 3 (ipykernel)",
   "language": "python",
   "name": "python3"
  },
  "language_info": {
   "codemirror_mode": {
    "name": "ipython",
    "version": 3
   },
   "file_extension": ".py",
   "mimetype": "text/x-python",
   "name": "python",
   "nbconvert_exporter": "python",
   "pygments_lexer": "ipython3",
   "version": "3.11.5"
  }
 },
 "nbformat": 4,
 "nbformat_minor": 5
}
